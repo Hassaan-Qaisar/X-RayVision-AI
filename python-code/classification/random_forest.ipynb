{
 "cells": [
  {
   "cell_type": "markdown",
   "metadata": {
    "id": "mPMNDfK47sdh"
   },
   "source": [
    "# Importing the libraries"
   ]
  },
  {
   "cell_type": "code",
   "execution_count": null,
   "metadata": {
    "execution": {
     "iopub.execute_input": "2025-03-12T07:33:36.458217Z",
     "iopub.status.busy": "2025-03-12T07:33:36.457898Z",
     "iopub.status.idle": "2025-03-12T07:33:50.807249Z",
     "shell.execute_reply": "2025-03-12T07:33:50.806398Z",
     "shell.execute_reply.started": "2025-03-12T07:33:36.458193Z"
    },
    "id": "rpZC6cZ_urI9",
    "trusted": true
   },
   "outputs": [],
   "source": [
    "import numpy as np\n",
    "import matplotlib.pyplot as plt\n",
    "import pandas as pd\n",
    "\n",
    "%matplotlib inline\n",
    "\n",
    "from sklearn.model_selection import train_test_split\n",
    "from sklearn.ensemble import RandomForestClassifier\n",
    "from sklearn.metrics import classification_report, accuracy_score"
   ]
  },
  {
   "cell_type": "markdown",
   "metadata": {
    "id": "Mr8r6qqV7wpK"
   },
   "source": [
    "# Loading the labels"
   ]
  },
  {
   "cell_type": "code",
   "execution_count": 6,
   "metadata": {
    "execution": {
     "iopub.execute_input": "2025-03-12T07:35:35.826869Z",
     "iopub.status.busy": "2025-03-12T07:35:35.826562Z",
     "iopub.status.idle": "2025-03-12T07:35:35.943405Z",
     "shell.execute_reply": "2025-03-12T07:35:35.942687Z",
     "shell.execute_reply.started": "2025-03-12T07:35:35.826843Z"
    },
    "id": "pDQgFaf_zUij",
    "trusted": true
   },
   "outputs": [],
   "source": [
    "train_labels = pd.read_csv(\"/kaggle/input/vindr-cxr-classification/image_labels_train.csv\")\n",
    "test_labels = pd.read_csv(\"/kaggle/input/vindr-cxr-classification/image_labels_test.csv\")"
   ]
  },
  {
   "cell_type": "markdown",
   "metadata": {
    "id": "omVDOMYM8LEm"
   },
   "source": [
    "# Data Analysis"
   ]
  },
  {
   "cell_type": "markdown",
   "metadata": {
    "id": "p6h5kDKr8hPR"
   },
   "source": [
    "## Train labels\n"
   ]
  },
  {
   "cell_type": "code",
   "execution_count": 7,
   "metadata": {
    "colab": {
     "base_uri": "https://localhost:8080/",
     "height": 273
    },
    "execution": {
     "iopub.execute_input": "2025-03-12T07:36:18.202140Z",
     "iopub.status.busy": "2025-03-12T07:36:18.201812Z",
     "iopub.status.idle": "2025-03-12T07:36:18.235363Z",
     "shell.execute_reply": "2025-03-12T07:36:18.234608Z",
     "shell.execute_reply.started": "2025-03-12T07:36:18.202115Z"
    },
    "id": "W_teKfum1MGb",
    "outputId": "b20834ca-69d8-45b0-a640-54e357aca701",
    "trusted": true
   },
   "outputs": [
    {
     "data": {
      "text/html": [
       "<div>\n",
       "<style scoped>\n",
       "    .dataframe tbody tr th:only-of-type {\n",
       "        vertical-align: middle;\n",
       "    }\n",
       "\n",
       "    .dataframe tbody tr th {\n",
       "        vertical-align: top;\n",
       "    }\n",
       "\n",
       "    .dataframe thead th {\n",
       "        text-align: right;\n",
       "    }\n",
       "</style>\n",
       "<table border=\"1\" class=\"dataframe\">\n",
       "  <thead>\n",
       "    <tr style=\"text-align: right;\">\n",
       "      <th></th>\n",
       "      <th>image_id</th>\n",
       "      <th>rad_id</th>\n",
       "      <th>Aortic enlargement</th>\n",
       "      <th>Atelectasis</th>\n",
       "      <th>Calcification</th>\n",
       "      <th>Cardiomegaly</th>\n",
       "      <th>Clavicle fracture</th>\n",
       "      <th>Consolidation</th>\n",
       "      <th>Edema</th>\n",
       "      <th>Emphysema</th>\n",
       "      <th>...</th>\n",
       "      <th>Pneumothorax</th>\n",
       "      <th>Pulmonary fibrosis</th>\n",
       "      <th>Rib fracture</th>\n",
       "      <th>Other lesion</th>\n",
       "      <th>COPD</th>\n",
       "      <th>Lung tumor</th>\n",
       "      <th>Pneumonia</th>\n",
       "      <th>Tuberculosis</th>\n",
       "      <th>Other diseases</th>\n",
       "      <th>No finding</th>\n",
       "    </tr>\n",
       "  </thead>\n",
       "  <tbody>\n",
       "    <tr>\n",
       "      <th>0</th>\n",
       "      <td>000434271f63a053c4128a0ba6352c7f</td>\n",
       "      <td>R2</td>\n",
       "      <td>0</td>\n",
       "      <td>0</td>\n",
       "      <td>0</td>\n",
       "      <td>0</td>\n",
       "      <td>0</td>\n",
       "      <td>0</td>\n",
       "      <td>0</td>\n",
       "      <td>0</td>\n",
       "      <td>...</td>\n",
       "      <td>0</td>\n",
       "      <td>0</td>\n",
       "      <td>0</td>\n",
       "      <td>0</td>\n",
       "      <td>0</td>\n",
       "      <td>0</td>\n",
       "      <td>0</td>\n",
       "      <td>0</td>\n",
       "      <td>0</td>\n",
       "      <td>1</td>\n",
       "    </tr>\n",
       "    <tr>\n",
       "      <th>1</th>\n",
       "      <td>000434271f63a053c4128a0ba6352c7f</td>\n",
       "      <td>R3</td>\n",
       "      <td>0</td>\n",
       "      <td>0</td>\n",
       "      <td>0</td>\n",
       "      <td>0</td>\n",
       "      <td>0</td>\n",
       "      <td>0</td>\n",
       "      <td>0</td>\n",
       "      <td>0</td>\n",
       "      <td>...</td>\n",
       "      <td>0</td>\n",
       "      <td>0</td>\n",
       "      <td>0</td>\n",
       "      <td>0</td>\n",
       "      <td>0</td>\n",
       "      <td>0</td>\n",
       "      <td>0</td>\n",
       "      <td>0</td>\n",
       "      <td>0</td>\n",
       "      <td>1</td>\n",
       "    </tr>\n",
       "    <tr>\n",
       "      <th>2</th>\n",
       "      <td>000434271f63a053c4128a0ba6352c7f</td>\n",
       "      <td>R6</td>\n",
       "      <td>0</td>\n",
       "      <td>0</td>\n",
       "      <td>0</td>\n",
       "      <td>0</td>\n",
       "      <td>0</td>\n",
       "      <td>0</td>\n",
       "      <td>0</td>\n",
       "      <td>0</td>\n",
       "      <td>...</td>\n",
       "      <td>0</td>\n",
       "      <td>0</td>\n",
       "      <td>0</td>\n",
       "      <td>0</td>\n",
       "      <td>0</td>\n",
       "      <td>0</td>\n",
       "      <td>0</td>\n",
       "      <td>0</td>\n",
       "      <td>0</td>\n",
       "      <td>1</td>\n",
       "    </tr>\n",
       "    <tr>\n",
       "      <th>3</th>\n",
       "      <td>00053190460d56c53cc3e57321387478</td>\n",
       "      <td>R11</td>\n",
       "      <td>0</td>\n",
       "      <td>0</td>\n",
       "      <td>0</td>\n",
       "      <td>0</td>\n",
       "      <td>0</td>\n",
       "      <td>0</td>\n",
       "      <td>0</td>\n",
       "      <td>0</td>\n",
       "      <td>...</td>\n",
       "      <td>0</td>\n",
       "      <td>0</td>\n",
       "      <td>0</td>\n",
       "      <td>0</td>\n",
       "      <td>0</td>\n",
       "      <td>0</td>\n",
       "      <td>0</td>\n",
       "      <td>0</td>\n",
       "      <td>0</td>\n",
       "      <td>1</td>\n",
       "    </tr>\n",
       "    <tr>\n",
       "      <th>4</th>\n",
       "      <td>00053190460d56c53cc3e57321387478</td>\n",
       "      <td>R2</td>\n",
       "      <td>0</td>\n",
       "      <td>0</td>\n",
       "      <td>0</td>\n",
       "      <td>0</td>\n",
       "      <td>0</td>\n",
       "      <td>0</td>\n",
       "      <td>0</td>\n",
       "      <td>0</td>\n",
       "      <td>...</td>\n",
       "      <td>0</td>\n",
       "      <td>0</td>\n",
       "      <td>0</td>\n",
       "      <td>0</td>\n",
       "      <td>0</td>\n",
       "      <td>0</td>\n",
       "      <td>0</td>\n",
       "      <td>0</td>\n",
       "      <td>0</td>\n",
       "      <td>1</td>\n",
       "    </tr>\n",
       "  </tbody>\n",
       "</table>\n",
       "<p>5 rows × 30 columns</p>\n",
       "</div>"
      ],
      "text/plain": [
       "                           image_id rad_id  Aortic enlargement  Atelectasis  \\\n",
       "0  000434271f63a053c4128a0ba6352c7f     R2                   0            0   \n",
       "1  000434271f63a053c4128a0ba6352c7f     R3                   0            0   \n",
       "2  000434271f63a053c4128a0ba6352c7f     R6                   0            0   \n",
       "3  00053190460d56c53cc3e57321387478    R11                   0            0   \n",
       "4  00053190460d56c53cc3e57321387478     R2                   0            0   \n",
       "\n",
       "   Calcification  Cardiomegaly  Clavicle fracture  Consolidation  Edema  \\\n",
       "0              0             0                  0              0      0   \n",
       "1              0             0                  0              0      0   \n",
       "2              0             0                  0              0      0   \n",
       "3              0             0                  0              0      0   \n",
       "4              0             0                  0              0      0   \n",
       "\n",
       "   Emphysema  ...  Pneumothorax  Pulmonary fibrosis  Rib fracture  \\\n",
       "0          0  ...             0                   0             0   \n",
       "1          0  ...             0                   0             0   \n",
       "2          0  ...             0                   0             0   \n",
       "3          0  ...             0                   0             0   \n",
       "4          0  ...             0                   0             0   \n",
       "\n",
       "   Other lesion  COPD  Lung tumor  Pneumonia  Tuberculosis  Other diseases  \\\n",
       "0             0     0           0          0             0               0   \n",
       "1             0     0           0          0             0               0   \n",
       "2             0     0           0          0             0               0   \n",
       "3             0     0           0          0             0               0   \n",
       "4             0     0           0          0             0               0   \n",
       "\n",
       "   No finding  \n",
       "0           1  \n",
       "1           1  \n",
       "2           1  \n",
       "3           1  \n",
       "4           1  \n",
       "\n",
       "[5 rows x 30 columns]"
      ]
     },
     "execution_count": 7,
     "metadata": {},
     "output_type": "execute_result"
    }
   ],
   "source": [
    "# Display first five rows\n",
    "train_labels.head()"
   ]
  },
  {
   "cell_type": "code",
   "execution_count": 8,
   "metadata": {
    "colab": {
     "base_uri": "https://localhost:8080/",
     "height": 273
    },
    "execution": {
     "iopub.execute_input": "2025-03-12T07:36:18.725179Z",
     "iopub.status.busy": "2025-03-12T07:36:18.724752Z",
     "iopub.status.idle": "2025-03-12T07:36:18.744528Z",
     "shell.execute_reply": "2025-03-12T07:36:18.743717Z",
     "shell.execute_reply.started": "2025-03-12T07:36:18.725134Z"
    },
    "id": "w7EbmP7vzpDs",
    "outputId": "f77947f6-1086-47ee-ba6a-c31ec462a127",
    "trusted": true
   },
   "outputs": [
    {
     "data": {
      "text/html": [
       "<div>\n",
       "<style scoped>\n",
       "    .dataframe tbody tr th:only-of-type {\n",
       "        vertical-align: middle;\n",
       "    }\n",
       "\n",
       "    .dataframe tbody tr th {\n",
       "        vertical-align: top;\n",
       "    }\n",
       "\n",
       "    .dataframe thead th {\n",
       "        text-align: right;\n",
       "    }\n",
       "</style>\n",
       "<table border=\"1\" class=\"dataframe\">\n",
       "  <thead>\n",
       "    <tr style=\"text-align: right;\">\n",
       "      <th></th>\n",
       "      <th>image_id</th>\n",
       "      <th>rad_id</th>\n",
       "      <th>Aortic enlargement</th>\n",
       "      <th>Atelectasis</th>\n",
       "      <th>Calcification</th>\n",
       "      <th>Cardiomegaly</th>\n",
       "      <th>Clavicle fracture</th>\n",
       "      <th>Consolidation</th>\n",
       "      <th>Edema</th>\n",
       "      <th>Emphysema</th>\n",
       "      <th>...</th>\n",
       "      <th>Pneumothorax</th>\n",
       "      <th>Pulmonary fibrosis</th>\n",
       "      <th>Rib fracture</th>\n",
       "      <th>Other lesion</th>\n",
       "      <th>COPD</th>\n",
       "      <th>Lung tumor</th>\n",
       "      <th>Pneumonia</th>\n",
       "      <th>Tuberculosis</th>\n",
       "      <th>Other diseases</th>\n",
       "      <th>No finding</th>\n",
       "    </tr>\n",
       "  </thead>\n",
       "  <tbody>\n",
       "    <tr>\n",
       "      <th>44995</th>\n",
       "      <td>fff0f82159f9083f3dd1f8967fc54f6a</td>\n",
       "      <td>R8</td>\n",
       "      <td>0</td>\n",
       "      <td>0</td>\n",
       "      <td>0</td>\n",
       "      <td>0</td>\n",
       "      <td>0</td>\n",
       "      <td>0</td>\n",
       "      <td>0</td>\n",
       "      <td>0</td>\n",
       "      <td>...</td>\n",
       "      <td>0</td>\n",
       "      <td>0</td>\n",
       "      <td>0</td>\n",
       "      <td>0</td>\n",
       "      <td>0</td>\n",
       "      <td>0</td>\n",
       "      <td>0</td>\n",
       "      <td>0</td>\n",
       "      <td>0</td>\n",
       "      <td>1</td>\n",
       "    </tr>\n",
       "    <tr>\n",
       "      <th>44996</th>\n",
       "      <td>fff0f82159f9083f3dd1f8967fc54f6a</td>\n",
       "      <td>R9</td>\n",
       "      <td>0</td>\n",
       "      <td>0</td>\n",
       "      <td>0</td>\n",
       "      <td>0</td>\n",
       "      <td>0</td>\n",
       "      <td>0</td>\n",
       "      <td>0</td>\n",
       "      <td>0</td>\n",
       "      <td>...</td>\n",
       "      <td>0</td>\n",
       "      <td>0</td>\n",
       "      <td>0</td>\n",
       "      <td>0</td>\n",
       "      <td>0</td>\n",
       "      <td>0</td>\n",
       "      <td>0</td>\n",
       "      <td>0</td>\n",
       "      <td>0</td>\n",
       "      <td>1</td>\n",
       "    </tr>\n",
       "    <tr>\n",
       "      <th>44997</th>\n",
       "      <td>fff2025e3c1d6970a8a6ee0404ac6940</td>\n",
       "      <td>R1</td>\n",
       "      <td>0</td>\n",
       "      <td>0</td>\n",
       "      <td>0</td>\n",
       "      <td>0</td>\n",
       "      <td>0</td>\n",
       "      <td>0</td>\n",
       "      <td>0</td>\n",
       "      <td>0</td>\n",
       "      <td>...</td>\n",
       "      <td>0</td>\n",
       "      <td>0</td>\n",
       "      <td>0</td>\n",
       "      <td>0</td>\n",
       "      <td>0</td>\n",
       "      <td>0</td>\n",
       "      <td>0</td>\n",
       "      <td>0</td>\n",
       "      <td>0</td>\n",
       "      <td>1</td>\n",
       "    </tr>\n",
       "    <tr>\n",
       "      <th>44998</th>\n",
       "      <td>fff2025e3c1d6970a8a6ee0404ac6940</td>\n",
       "      <td>R2</td>\n",
       "      <td>0</td>\n",
       "      <td>0</td>\n",
       "      <td>0</td>\n",
       "      <td>0</td>\n",
       "      <td>0</td>\n",
       "      <td>0</td>\n",
       "      <td>0</td>\n",
       "      <td>0</td>\n",
       "      <td>...</td>\n",
       "      <td>0</td>\n",
       "      <td>0</td>\n",
       "      <td>0</td>\n",
       "      <td>0</td>\n",
       "      <td>0</td>\n",
       "      <td>0</td>\n",
       "      <td>0</td>\n",
       "      <td>0</td>\n",
       "      <td>0</td>\n",
       "      <td>1</td>\n",
       "    </tr>\n",
       "    <tr>\n",
       "      <th>44999</th>\n",
       "      <td>fff2025e3c1d6970a8a6ee0404ac6940</td>\n",
       "      <td>R5</td>\n",
       "      <td>0</td>\n",
       "      <td>0</td>\n",
       "      <td>0</td>\n",
       "      <td>0</td>\n",
       "      <td>0</td>\n",
       "      <td>0</td>\n",
       "      <td>0</td>\n",
       "      <td>0</td>\n",
       "      <td>...</td>\n",
       "      <td>0</td>\n",
       "      <td>0</td>\n",
       "      <td>0</td>\n",
       "      <td>0</td>\n",
       "      <td>0</td>\n",
       "      <td>0</td>\n",
       "      <td>0</td>\n",
       "      <td>0</td>\n",
       "      <td>0</td>\n",
       "      <td>1</td>\n",
       "    </tr>\n",
       "  </tbody>\n",
       "</table>\n",
       "<p>5 rows × 30 columns</p>\n",
       "</div>"
      ],
      "text/plain": [
       "                               image_id rad_id  Aortic enlargement  \\\n",
       "44995  fff0f82159f9083f3dd1f8967fc54f6a     R8                   0   \n",
       "44996  fff0f82159f9083f3dd1f8967fc54f6a     R9                   0   \n",
       "44997  fff2025e3c1d6970a8a6ee0404ac6940     R1                   0   \n",
       "44998  fff2025e3c1d6970a8a6ee0404ac6940     R2                   0   \n",
       "44999  fff2025e3c1d6970a8a6ee0404ac6940     R5                   0   \n",
       "\n",
       "       Atelectasis  Calcification  Cardiomegaly  Clavicle fracture  \\\n",
       "44995            0              0             0                  0   \n",
       "44996            0              0             0                  0   \n",
       "44997            0              0             0                  0   \n",
       "44998            0              0             0                  0   \n",
       "44999            0              0             0                  0   \n",
       "\n",
       "       Consolidation  Edema  Emphysema  ...  Pneumothorax  Pulmonary fibrosis  \\\n",
       "44995              0      0          0  ...             0                   0   \n",
       "44996              0      0          0  ...             0                   0   \n",
       "44997              0      0          0  ...             0                   0   \n",
       "44998              0      0          0  ...             0                   0   \n",
       "44999              0      0          0  ...             0                   0   \n",
       "\n",
       "       Rib fracture  Other lesion  COPD  Lung tumor  Pneumonia  Tuberculosis  \\\n",
       "44995             0             0     0           0          0             0   \n",
       "44996             0             0     0           0          0             0   \n",
       "44997             0             0     0           0          0             0   \n",
       "44998             0             0     0           0          0             0   \n",
       "44999             0             0     0           0          0             0   \n",
       "\n",
       "       Other diseases  No finding  \n",
       "44995               0           1  \n",
       "44996               0           1  \n",
       "44997               0           1  \n",
       "44998               0           1  \n",
       "44999               0           1  \n",
       "\n",
       "[5 rows x 30 columns]"
      ]
     },
     "execution_count": 8,
     "metadata": {},
     "output_type": "execute_result"
    }
   ],
   "source": [
    "# Display last five rows\n",
    "train_labels.tail()"
   ]
  },
  {
   "cell_type": "code",
   "execution_count": 9,
   "metadata": {
    "colab": {
     "base_uri": "https://localhost:8080/"
    },
    "execution": {
     "iopub.execute_input": "2025-03-12T07:36:19.085028Z",
     "iopub.status.busy": "2025-03-12T07:36:19.084718Z",
     "iopub.status.idle": "2025-03-12T07:36:19.121586Z",
     "shell.execute_reply": "2025-03-12T07:36:19.120710Z",
     "shell.execute_reply.started": "2025-03-12T07:36:19.085002Z"
    },
    "id": "B1sPGEDo12T9",
    "outputId": "5e9b0f28-6203-4a41-eb05-991c6db26e1f",
    "trusted": true
   },
   "outputs": [
    {
     "name": "stdout",
     "output_type": "stream",
     "text": [
      "<class 'pandas.core.frame.DataFrame'>\n",
      "RangeIndex: 45000 entries, 0 to 44999\n",
      "Data columns (total 30 columns):\n",
      " #   Column              Non-Null Count  Dtype \n",
      "---  ------              --------------  ----- \n",
      " 0   image_id            45000 non-null  object\n",
      " 1   rad_id              45000 non-null  object\n",
      " 2   Aortic enlargement  45000 non-null  int64 \n",
      " 3   Atelectasis         45000 non-null  int64 \n",
      " 4   Calcification       45000 non-null  int64 \n",
      " 5   Cardiomegaly        45000 non-null  int64 \n",
      " 6   Clavicle fracture   45000 non-null  int64 \n",
      " 7   Consolidation       45000 non-null  int64 \n",
      " 8   Edema               45000 non-null  int64 \n",
      " 9   Emphysema           45000 non-null  int64 \n",
      " 10  Enlarged PA         45000 non-null  int64 \n",
      " 11  ILD                 45000 non-null  int64 \n",
      " 12  Infiltration        45000 non-null  int64 \n",
      " 13  Lung Opacity        45000 non-null  int64 \n",
      " 14  Lung cavity         45000 non-null  int64 \n",
      " 15  Lung cyst           45000 non-null  int64 \n",
      " 16  Mediastinal shift   45000 non-null  int64 \n",
      " 17  Nodule/Mass         45000 non-null  int64 \n",
      " 18  Pleural effusion    45000 non-null  int64 \n",
      " 19  Pleural thickening  45000 non-null  int64 \n",
      " 20  Pneumothorax        45000 non-null  int64 \n",
      " 21  Pulmonary fibrosis  45000 non-null  int64 \n",
      " 22  Rib fracture        45000 non-null  int64 \n",
      " 23  Other lesion        45000 non-null  int64 \n",
      " 24  COPD                45000 non-null  int64 \n",
      " 25  Lung tumor          45000 non-null  int64 \n",
      " 26  Pneumonia           45000 non-null  int64 \n",
      " 27  Tuberculosis        45000 non-null  int64 \n",
      " 28  Other diseases      45000 non-null  int64 \n",
      " 29  No finding          45000 non-null  int64 \n",
      "dtypes: int64(28), object(2)\n",
      "memory usage: 10.3+ MB\n"
     ]
    }
   ],
   "source": [
    "train_labels.info()"
   ]
  },
  {
   "cell_type": "code",
   "execution_count": 10,
   "metadata": {
    "colab": {
     "base_uri": "https://localhost:8080/"
    },
    "execution": {
     "iopub.execute_input": "2025-03-12T07:36:19.430297Z",
     "iopub.status.busy": "2025-03-12T07:36:19.429860Z",
     "iopub.status.idle": "2025-03-12T07:36:19.435979Z",
     "shell.execute_reply": "2025-03-12T07:36:19.435087Z",
     "shell.execute_reply.started": "2025-03-12T07:36:19.430265Z"
    },
    "id": "XseGNyv_B6qe",
    "outputId": "597ac40c-80c2-4885-918d-38f40d273899",
    "trusted": true
   },
   "outputs": [
    {
     "data": {
      "text/plain": [
       "(45000, 30)"
      ]
     },
     "execution_count": 10,
     "metadata": {},
     "output_type": "execute_result"
    }
   ],
   "source": [
    "train_labels.shape"
   ]
  },
  {
   "cell_type": "markdown",
   "metadata": {
    "id": "Y32YrpiJ8jtu"
   },
   "source": [
    "## Test labels"
   ]
  },
  {
   "cell_type": "code",
   "execution_count": 11,
   "metadata": {
    "colab": {
     "base_uri": "https://localhost:8080/",
     "height": 273
    },
    "execution": {
     "iopub.execute_input": "2025-03-12T07:36:19.892736Z",
     "iopub.status.busy": "2025-03-12T07:36:19.892448Z",
     "iopub.status.idle": "2025-03-12T07:36:19.907456Z",
     "shell.execute_reply": "2025-03-12T07:36:19.906546Z",
     "shell.execute_reply.started": "2025-03-12T07:36:19.892715Z"
    },
    "id": "La4l-ql6_XzO",
    "outputId": "fe92ff13-c46b-49b2-a5a5-c9a8d9eb0ad4",
    "trusted": true
   },
   "outputs": [
    {
     "data": {
      "text/html": [
       "<div>\n",
       "<style scoped>\n",
       "    .dataframe tbody tr th:only-of-type {\n",
       "        vertical-align: middle;\n",
       "    }\n",
       "\n",
       "    .dataframe tbody tr th {\n",
       "        vertical-align: top;\n",
       "    }\n",
       "\n",
       "    .dataframe thead th {\n",
       "        text-align: right;\n",
       "    }\n",
       "</style>\n",
       "<table border=\"1\" class=\"dataframe\">\n",
       "  <thead>\n",
       "    <tr style=\"text-align: right;\">\n",
       "      <th></th>\n",
       "      <th>image_id</th>\n",
       "      <th>Aortic enlargement</th>\n",
       "      <th>Atelectasis</th>\n",
       "      <th>Calcification</th>\n",
       "      <th>Cardiomegaly</th>\n",
       "      <th>Clavicle fracture</th>\n",
       "      <th>Consolidation</th>\n",
       "      <th>Edema</th>\n",
       "      <th>Emphysema</th>\n",
       "      <th>Enlarged PA</th>\n",
       "      <th>...</th>\n",
       "      <th>Pneumothorax</th>\n",
       "      <th>Pulmonary fibrosis</th>\n",
       "      <th>Rib fracture</th>\n",
       "      <th>Other lesion</th>\n",
       "      <th>COPD</th>\n",
       "      <th>Lung tumor</th>\n",
       "      <th>Pneumonia</th>\n",
       "      <th>Tuberculosis</th>\n",
       "      <th>Other disease</th>\n",
       "      <th>No finding</th>\n",
       "    </tr>\n",
       "  </thead>\n",
       "  <tbody>\n",
       "    <tr>\n",
       "      <th>0</th>\n",
       "      <td>e0dc2e79105ad93532484e956ef8a71a</td>\n",
       "      <td>0</td>\n",
       "      <td>1</td>\n",
       "      <td>1</td>\n",
       "      <td>1</td>\n",
       "      <td>0</td>\n",
       "      <td>0</td>\n",
       "      <td>0</td>\n",
       "      <td>0</td>\n",
       "      <td>0</td>\n",
       "      <td>...</td>\n",
       "      <td>1</td>\n",
       "      <td>0</td>\n",
       "      <td>0</td>\n",
       "      <td>0</td>\n",
       "      <td>0</td>\n",
       "      <td>0</td>\n",
       "      <td>1</td>\n",
       "      <td>0</td>\n",
       "      <td>1</td>\n",
       "      <td>0</td>\n",
       "    </tr>\n",
       "    <tr>\n",
       "      <th>1</th>\n",
       "      <td>0aed23e64ebdea798486056b4f174424</td>\n",
       "      <td>0</td>\n",
       "      <td>0</td>\n",
       "      <td>0</td>\n",
       "      <td>0</td>\n",
       "      <td>0</td>\n",
       "      <td>1</td>\n",
       "      <td>0</td>\n",
       "      <td>0</td>\n",
       "      <td>0</td>\n",
       "      <td>...</td>\n",
       "      <td>0</td>\n",
       "      <td>0</td>\n",
       "      <td>0</td>\n",
       "      <td>0</td>\n",
       "      <td>0</td>\n",
       "      <td>0</td>\n",
       "      <td>1</td>\n",
       "      <td>0</td>\n",
       "      <td>0</td>\n",
       "      <td>0</td>\n",
       "    </tr>\n",
       "    <tr>\n",
       "      <th>2</th>\n",
       "      <td>aa15cfcfca7605465ca0513902738b95</td>\n",
       "      <td>0</td>\n",
       "      <td>0</td>\n",
       "      <td>0</td>\n",
       "      <td>0</td>\n",
       "      <td>0</td>\n",
       "      <td>0</td>\n",
       "      <td>0</td>\n",
       "      <td>0</td>\n",
       "      <td>0</td>\n",
       "      <td>...</td>\n",
       "      <td>0</td>\n",
       "      <td>1</td>\n",
       "      <td>0</td>\n",
       "      <td>0</td>\n",
       "      <td>0</td>\n",
       "      <td>0</td>\n",
       "      <td>0</td>\n",
       "      <td>1</td>\n",
       "      <td>0</td>\n",
       "      <td>0</td>\n",
       "    </tr>\n",
       "    <tr>\n",
       "      <th>3</th>\n",
       "      <td>665c4a6d2693dc0286d65ab479c9b169</td>\n",
       "      <td>0</td>\n",
       "      <td>0</td>\n",
       "      <td>0</td>\n",
       "      <td>0</td>\n",
       "      <td>0</td>\n",
       "      <td>0</td>\n",
       "      <td>0</td>\n",
       "      <td>0</td>\n",
       "      <td>0</td>\n",
       "      <td>...</td>\n",
       "      <td>0</td>\n",
       "      <td>0</td>\n",
       "      <td>0</td>\n",
       "      <td>0</td>\n",
       "      <td>0</td>\n",
       "      <td>1</td>\n",
       "      <td>0</td>\n",
       "      <td>0</td>\n",
       "      <td>0</td>\n",
       "      <td>0</td>\n",
       "    </tr>\n",
       "    <tr>\n",
       "      <th>4</th>\n",
       "      <td>42da2c134b53cb5594774d3d29faac59</td>\n",
       "      <td>1</td>\n",
       "      <td>0</td>\n",
       "      <td>1</td>\n",
       "      <td>1</td>\n",
       "      <td>0</td>\n",
       "      <td>0</td>\n",
       "      <td>0</td>\n",
       "      <td>0</td>\n",
       "      <td>0</td>\n",
       "      <td>...</td>\n",
       "      <td>0</td>\n",
       "      <td>0</td>\n",
       "      <td>0</td>\n",
       "      <td>0</td>\n",
       "      <td>0</td>\n",
       "      <td>0</td>\n",
       "      <td>0</td>\n",
       "      <td>0</td>\n",
       "      <td>1</td>\n",
       "      <td>0</td>\n",
       "    </tr>\n",
       "  </tbody>\n",
       "</table>\n",
       "<p>5 rows × 29 columns</p>\n",
       "</div>"
      ],
      "text/plain": [
       "                           image_id  Aortic enlargement  Atelectasis  \\\n",
       "0  e0dc2e79105ad93532484e956ef8a71a                   0            1   \n",
       "1  0aed23e64ebdea798486056b4f174424                   0            0   \n",
       "2  aa15cfcfca7605465ca0513902738b95                   0            0   \n",
       "3  665c4a6d2693dc0286d65ab479c9b169                   0            0   \n",
       "4  42da2c134b53cb5594774d3d29faac59                   1            0   \n",
       "\n",
       "   Calcification  Cardiomegaly  Clavicle fracture  Consolidation  Edema  \\\n",
       "0              1             1                  0              0      0   \n",
       "1              0             0                  0              1      0   \n",
       "2              0             0                  0              0      0   \n",
       "3              0             0                  0              0      0   \n",
       "4              1             1                  0              0      0   \n",
       "\n",
       "   Emphysema  Enlarged PA  ...  Pneumothorax  Pulmonary fibrosis  \\\n",
       "0          0            0  ...             1                   0   \n",
       "1          0            0  ...             0                   0   \n",
       "2          0            0  ...             0                   1   \n",
       "3          0            0  ...             0                   0   \n",
       "4          0            0  ...             0                   0   \n",
       "\n",
       "   Rib fracture  Other lesion  COPD  Lung tumor  Pneumonia  Tuberculosis  \\\n",
       "0             0             0     0           0          1             0   \n",
       "1             0             0     0           0          1             0   \n",
       "2             0             0     0           0          0             1   \n",
       "3             0             0     0           1          0             0   \n",
       "4             0             0     0           0          0             0   \n",
       "\n",
       "   Other disease  No finding  \n",
       "0              1           0  \n",
       "1              0           0  \n",
       "2              0           0  \n",
       "3              0           0  \n",
       "4              1           0  \n",
       "\n",
       "[5 rows x 29 columns]"
      ]
     },
     "execution_count": 11,
     "metadata": {},
     "output_type": "execute_result"
    }
   ],
   "source": [
    "# Display first five rows\n",
    "test_labels.head()"
   ]
  },
  {
   "cell_type": "markdown",
   "metadata": {
    "id": "XnlrwyycAQ6o"
   },
   "source": [
    "There are 29 columns in test_label dataset because it does not have rad_id column."
   ]
  },
  {
   "cell_type": "code",
   "execution_count": 12,
   "metadata": {
    "colab": {
     "base_uri": "https://localhost:8080/",
     "height": 273
    },
    "execution": {
     "iopub.execute_input": "2025-03-12T07:36:20.218425Z",
     "iopub.status.busy": "2025-03-12T07:36:20.218141Z",
     "iopub.status.idle": "2025-03-12T07:36:20.231910Z",
     "shell.execute_reply": "2025-03-12T07:36:20.230987Z",
     "shell.execute_reply.started": "2025-03-12T07:36:20.218403Z"
    },
    "id": "LcO0ghEhz2xi",
    "outputId": "2df776b1-439d-4be1-f85a-3e1dae2bf56a",
    "trusted": true
   },
   "outputs": [
    {
     "data": {
      "text/html": [
       "<div>\n",
       "<style scoped>\n",
       "    .dataframe tbody tr th:only-of-type {\n",
       "        vertical-align: middle;\n",
       "    }\n",
       "\n",
       "    .dataframe tbody tr th {\n",
       "        vertical-align: top;\n",
       "    }\n",
       "\n",
       "    .dataframe thead th {\n",
       "        text-align: right;\n",
       "    }\n",
       "</style>\n",
       "<table border=\"1\" class=\"dataframe\">\n",
       "  <thead>\n",
       "    <tr style=\"text-align: right;\">\n",
       "      <th></th>\n",
       "      <th>image_id</th>\n",
       "      <th>Aortic enlargement</th>\n",
       "      <th>Atelectasis</th>\n",
       "      <th>Calcification</th>\n",
       "      <th>Cardiomegaly</th>\n",
       "      <th>Clavicle fracture</th>\n",
       "      <th>Consolidation</th>\n",
       "      <th>Edema</th>\n",
       "      <th>Emphysema</th>\n",
       "      <th>Enlarged PA</th>\n",
       "      <th>...</th>\n",
       "      <th>Pneumothorax</th>\n",
       "      <th>Pulmonary fibrosis</th>\n",
       "      <th>Rib fracture</th>\n",
       "      <th>Other lesion</th>\n",
       "      <th>COPD</th>\n",
       "      <th>Lung tumor</th>\n",
       "      <th>Pneumonia</th>\n",
       "      <th>Tuberculosis</th>\n",
       "      <th>Other disease</th>\n",
       "      <th>No finding</th>\n",
       "    </tr>\n",
       "  </thead>\n",
       "  <tbody>\n",
       "    <tr>\n",
       "      <th>2995</th>\n",
       "      <td>a039af299f86007d0d77da077a6def9a</td>\n",
       "      <td>0</td>\n",
       "      <td>0</td>\n",
       "      <td>0</td>\n",
       "      <td>0</td>\n",
       "      <td>0</td>\n",
       "      <td>0</td>\n",
       "      <td>0</td>\n",
       "      <td>0</td>\n",
       "      <td>0</td>\n",
       "      <td>...</td>\n",
       "      <td>0</td>\n",
       "      <td>0</td>\n",
       "      <td>0</td>\n",
       "      <td>0</td>\n",
       "      <td>0</td>\n",
       "      <td>0</td>\n",
       "      <td>0</td>\n",
       "      <td>0</td>\n",
       "      <td>0</td>\n",
       "      <td>1</td>\n",
       "    </tr>\n",
       "    <tr>\n",
       "      <th>2996</th>\n",
       "      <td>aba3d1f5b1c04236f52a8980929b2cfa</td>\n",
       "      <td>0</td>\n",
       "      <td>0</td>\n",
       "      <td>0</td>\n",
       "      <td>0</td>\n",
       "      <td>0</td>\n",
       "      <td>0</td>\n",
       "      <td>0</td>\n",
       "      <td>0</td>\n",
       "      <td>0</td>\n",
       "      <td>...</td>\n",
       "      <td>0</td>\n",
       "      <td>0</td>\n",
       "      <td>0</td>\n",
       "      <td>0</td>\n",
       "      <td>0</td>\n",
       "      <td>0</td>\n",
       "      <td>0</td>\n",
       "      <td>0</td>\n",
       "      <td>0</td>\n",
       "      <td>1</td>\n",
       "    </tr>\n",
       "    <tr>\n",
       "      <th>2997</th>\n",
       "      <td>6d3d6b53f358a983b486e9e03144eb62</td>\n",
       "      <td>0</td>\n",
       "      <td>0</td>\n",
       "      <td>0</td>\n",
       "      <td>0</td>\n",
       "      <td>0</td>\n",
       "      <td>0</td>\n",
       "      <td>0</td>\n",
       "      <td>0</td>\n",
       "      <td>0</td>\n",
       "      <td>...</td>\n",
       "      <td>0</td>\n",
       "      <td>0</td>\n",
       "      <td>0</td>\n",
       "      <td>0</td>\n",
       "      <td>0</td>\n",
       "      <td>0</td>\n",
       "      <td>0</td>\n",
       "      <td>0</td>\n",
       "      <td>0</td>\n",
       "      <td>1</td>\n",
       "    </tr>\n",
       "    <tr>\n",
       "      <th>2998</th>\n",
       "      <td>d6678cb7ae39f575d35ab9da6d7cb171</td>\n",
       "      <td>0</td>\n",
       "      <td>0</td>\n",
       "      <td>0</td>\n",
       "      <td>0</td>\n",
       "      <td>0</td>\n",
       "      <td>0</td>\n",
       "      <td>0</td>\n",
       "      <td>0</td>\n",
       "      <td>0</td>\n",
       "      <td>...</td>\n",
       "      <td>0</td>\n",
       "      <td>0</td>\n",
       "      <td>0</td>\n",
       "      <td>0</td>\n",
       "      <td>0</td>\n",
       "      <td>0</td>\n",
       "      <td>0</td>\n",
       "      <td>0</td>\n",
       "      <td>0</td>\n",
       "      <td>1</td>\n",
       "    </tr>\n",
       "    <tr>\n",
       "      <th>2999</th>\n",
       "      <td>e82d33dfd04d95c61d8d133dcbf29691</td>\n",
       "      <td>0</td>\n",
       "      <td>0</td>\n",
       "      <td>0</td>\n",
       "      <td>0</td>\n",
       "      <td>0</td>\n",
       "      <td>0</td>\n",
       "      <td>0</td>\n",
       "      <td>0</td>\n",
       "      <td>0</td>\n",
       "      <td>...</td>\n",
       "      <td>0</td>\n",
       "      <td>0</td>\n",
       "      <td>0</td>\n",
       "      <td>0</td>\n",
       "      <td>0</td>\n",
       "      <td>0</td>\n",
       "      <td>0</td>\n",
       "      <td>0</td>\n",
       "      <td>0</td>\n",
       "      <td>1</td>\n",
       "    </tr>\n",
       "  </tbody>\n",
       "</table>\n",
       "<p>5 rows × 29 columns</p>\n",
       "</div>"
      ],
      "text/plain": [
       "                              image_id  Aortic enlargement  Atelectasis  \\\n",
       "2995  a039af299f86007d0d77da077a6def9a                   0            0   \n",
       "2996  aba3d1f5b1c04236f52a8980929b2cfa                   0            0   \n",
       "2997  6d3d6b53f358a983b486e9e03144eb62                   0            0   \n",
       "2998  d6678cb7ae39f575d35ab9da6d7cb171                   0            0   \n",
       "2999  e82d33dfd04d95c61d8d133dcbf29691                   0            0   \n",
       "\n",
       "      Calcification  Cardiomegaly  Clavicle fracture  Consolidation  Edema  \\\n",
       "2995              0             0                  0              0      0   \n",
       "2996              0             0                  0              0      0   \n",
       "2997              0             0                  0              0      0   \n",
       "2998              0             0                  0              0      0   \n",
       "2999              0             0                  0              0      0   \n",
       "\n",
       "      Emphysema  Enlarged PA  ...  Pneumothorax  Pulmonary fibrosis  \\\n",
       "2995          0            0  ...             0                   0   \n",
       "2996          0            0  ...             0                   0   \n",
       "2997          0            0  ...             0                   0   \n",
       "2998          0            0  ...             0                   0   \n",
       "2999          0            0  ...             0                   0   \n",
       "\n",
       "      Rib fracture  Other lesion  COPD  Lung tumor  Pneumonia  Tuberculosis  \\\n",
       "2995             0             0     0           0          0             0   \n",
       "2996             0             0     0           0          0             0   \n",
       "2997             0             0     0           0          0             0   \n",
       "2998             0             0     0           0          0             0   \n",
       "2999             0             0     0           0          0             0   \n",
       "\n",
       "      Other disease  No finding  \n",
       "2995              0           1  \n",
       "2996              0           1  \n",
       "2997              0           1  \n",
       "2998              0           1  \n",
       "2999              0           1  \n",
       "\n",
       "[5 rows x 29 columns]"
      ]
     },
     "execution_count": 12,
     "metadata": {},
     "output_type": "execute_result"
    }
   ],
   "source": [
    "# Display last five rows\n",
    "test_labels.tail()"
   ]
  },
  {
   "cell_type": "code",
   "execution_count": 13,
   "metadata": {
    "colab": {
     "base_uri": "https://localhost:8080/"
    },
    "execution": {
     "iopub.execute_input": "2025-03-12T07:36:20.346272Z",
     "iopub.status.busy": "2025-03-12T07:36:20.345915Z",
     "iopub.status.idle": "2025-03-12T07:36:20.356619Z",
     "shell.execute_reply": "2025-03-12T07:36:20.355766Z",
     "shell.execute_reply.started": "2025-03-12T07:36:20.346244Z"
    },
    "id": "T2AEdzk2_f52",
    "outputId": "715ec5d5-0b76-46ca-a620-a569e2e3e1fe",
    "trusted": true
   },
   "outputs": [
    {
     "name": "stdout",
     "output_type": "stream",
     "text": [
      "<class 'pandas.core.frame.DataFrame'>\n",
      "RangeIndex: 3000 entries, 0 to 2999\n",
      "Data columns (total 29 columns):\n",
      " #   Column              Non-Null Count  Dtype \n",
      "---  ------              --------------  ----- \n",
      " 0   image_id            3000 non-null   object\n",
      " 1   Aortic enlargement  3000 non-null   int64 \n",
      " 2   Atelectasis         3000 non-null   int64 \n",
      " 3   Calcification       3000 non-null   int64 \n",
      " 4   Cardiomegaly        3000 non-null   int64 \n",
      " 5   Clavicle fracture   3000 non-null   int64 \n",
      " 6   Consolidation       3000 non-null   int64 \n",
      " 7   Edema               3000 non-null   int64 \n",
      " 8   Emphysema           3000 non-null   int64 \n",
      " 9   Enlarged PA         3000 non-null   int64 \n",
      " 10  ILD                 3000 non-null   int64 \n",
      " 11  Infiltration        3000 non-null   int64 \n",
      " 12  Lung Opacity        3000 non-null   int64 \n",
      " 13  Lung cavity         3000 non-null   int64 \n",
      " 14  Lung cyst           3000 non-null   int64 \n",
      " 15  Mediastinal shift   3000 non-null   int64 \n",
      " 16  Nodule/Mass         3000 non-null   int64 \n",
      " 17  Pleural effusion    3000 non-null   int64 \n",
      " 18  Pleural thickening  3000 non-null   int64 \n",
      " 19  Pneumothorax        3000 non-null   int64 \n",
      " 20  Pulmonary fibrosis  3000 non-null   int64 \n",
      " 21  Rib fracture        3000 non-null   int64 \n",
      " 22  Other lesion        3000 non-null   int64 \n",
      " 23  COPD                3000 non-null   int64 \n",
      " 24  Lung tumor          3000 non-null   int64 \n",
      " 25  Pneumonia           3000 non-null   int64 \n",
      " 26  Tuberculosis        3000 non-null   int64 \n",
      " 27  Other disease       3000 non-null   int64 \n",
      " 28  No finding          3000 non-null   int64 \n",
      "dtypes: int64(28), object(1)\n",
      "memory usage: 679.8+ KB\n"
     ]
    }
   ],
   "source": [
    "test_labels.info()"
   ]
  },
  {
   "cell_type": "code",
   "execution_count": 14,
   "metadata": {
    "colab": {
     "base_uri": "https://localhost:8080/"
    },
    "execution": {
     "iopub.execute_input": "2025-03-12T07:36:20.477846Z",
     "iopub.status.busy": "2025-03-12T07:36:20.477565Z",
     "iopub.status.idle": "2025-03-12T07:36:20.482750Z",
     "shell.execute_reply": "2025-03-12T07:36:20.481953Z",
     "shell.execute_reply.started": "2025-03-12T07:36:20.477825Z"
    },
    "id": "_iVd_fYACDz4",
    "outputId": "b8ebbefa-cd5a-4fbb-f856-7b934fb5d622",
    "trusted": true
   },
   "outputs": [
    {
     "data": {
      "text/plain": [
       "(3000, 29)"
      ]
     },
     "execution_count": 14,
     "metadata": {},
     "output_type": "execute_result"
    }
   ],
   "source": [
    "test_labels.shape"
   ]
  },
  {
   "cell_type": "markdown",
   "metadata": {
    "id": "MvZABVjT8l_C"
   },
   "source": [
    "## EDA\n"
   ]
  },
  {
   "cell_type": "markdown",
   "metadata": {
    "id": "0TmgYYSxC9oQ"
   },
   "source": [
    "The following piece of code is showing that the different radiologists classify each x-ray to a different disease. Even in some cases one x ray is classified to multiple diseases by one radiologist."
   ]
  },
  {
   "cell_type": "code",
   "execution_count": 15,
   "metadata": {
    "execution": {
     "iopub.execute_input": "2025-03-12T07:36:20.886592Z",
     "iopub.status.busy": "2025-03-12T07:36:20.886321Z",
     "iopub.status.idle": "2025-03-12T07:36:20.890246Z",
     "shell.execute_reply": "2025-03-12T07:36:20.889355Z",
     "shell.execute_reply.started": "2025-03-12T07:36:20.886572Z"
    },
    "id": "Yu1D2zBu8VIx",
    "trusted": true
   },
   "outputs": [],
   "source": [
    "# Define target columns\n",
    "target_columns = [\"COPD\", \"Lung tumor\", \"Pneumonia\", \"Tuberculosis\", \"Other diseases\", \"No finding\"]"
   ]
  },
  {
   "cell_type": "code",
   "execution_count": 16,
   "metadata": {
    "colab": {
     "base_uri": "https://localhost:8080/",
     "height": 455
    },
    "execution": {
     "iopub.execute_input": "2025-03-12T07:36:20.998219Z",
     "iopub.status.busy": "2025-03-12T07:36:20.997872Z",
     "iopub.status.idle": "2025-03-12T07:36:21.022411Z",
     "shell.execute_reply": "2025-03-12T07:36:21.021664Z",
     "shell.execute_reply.started": "2025-03-12T07:36:20.998190Z"
    },
    "id": "mb36KhvM8WNP",
    "outputId": "b779e72e-5b2a-4db7-bdb1-ecc2a4312007",
    "trusted": true
   },
   "outputs": [
    {
     "data": {
      "text/html": [
       "<div>\n",
       "<style scoped>\n",
       "    .dataframe tbody tr th:only-of-type {\n",
       "        vertical-align: middle;\n",
       "    }\n",
       "\n",
       "    .dataframe tbody tr th {\n",
       "        vertical-align: top;\n",
       "    }\n",
       "\n",
       "    .dataframe thead th {\n",
       "        text-align: right;\n",
       "    }\n",
       "</style>\n",
       "<table border=\"1\" class=\"dataframe\">\n",
       "  <thead>\n",
       "    <tr style=\"text-align: right;\">\n",
       "      <th></th>\n",
       "      <th>COPD</th>\n",
       "      <th>Lung tumor</th>\n",
       "      <th>Pneumonia</th>\n",
       "      <th>Tuberculosis</th>\n",
       "      <th>Other diseases</th>\n",
       "      <th>No finding</th>\n",
       "    </tr>\n",
       "    <tr>\n",
       "      <th>image_id</th>\n",
       "      <th></th>\n",
       "      <th></th>\n",
       "      <th></th>\n",
       "      <th></th>\n",
       "      <th></th>\n",
       "      <th></th>\n",
       "    </tr>\n",
       "  </thead>\n",
       "  <tbody>\n",
       "    <tr>\n",
       "      <th>000434271f63a053c4128a0ba6352c7f</th>\n",
       "      <td>0</td>\n",
       "      <td>0</td>\n",
       "      <td>0</td>\n",
       "      <td>0</td>\n",
       "      <td>0</td>\n",
       "      <td>3</td>\n",
       "    </tr>\n",
       "    <tr>\n",
       "      <th>00053190460d56c53cc3e57321387478</th>\n",
       "      <td>0</td>\n",
       "      <td>0</td>\n",
       "      <td>0</td>\n",
       "      <td>0</td>\n",
       "      <td>0</td>\n",
       "      <td>3</td>\n",
       "    </tr>\n",
       "    <tr>\n",
       "      <th>0005e8e3701dfb1dd93d53e2ff537b6e</th>\n",
       "      <td>0</td>\n",
       "      <td>2</td>\n",
       "      <td>3</td>\n",
       "      <td>2</td>\n",
       "      <td>0</td>\n",
       "      <td>0</td>\n",
       "    </tr>\n",
       "    <tr>\n",
       "      <th>0006e0a85696f6bb578e84fafa9a5607</th>\n",
       "      <td>0</td>\n",
       "      <td>0</td>\n",
       "      <td>0</td>\n",
       "      <td>0</td>\n",
       "      <td>0</td>\n",
       "      <td>3</td>\n",
       "    </tr>\n",
       "    <tr>\n",
       "      <th>0007d316f756b3fa0baea2ff514ce945</th>\n",
       "      <td>0</td>\n",
       "      <td>0</td>\n",
       "      <td>0</td>\n",
       "      <td>0</td>\n",
       "      <td>3</td>\n",
       "      <td>0</td>\n",
       "    </tr>\n",
       "    <tr>\n",
       "      <th>...</th>\n",
       "      <td>...</td>\n",
       "      <td>...</td>\n",
       "      <td>...</td>\n",
       "      <td>...</td>\n",
       "      <td>...</td>\n",
       "      <td>...</td>\n",
       "    </tr>\n",
       "    <tr>\n",
       "      <th>ffe6f9fe648a7ec29a50feb92d6c15a4</th>\n",
       "      <td>0</td>\n",
       "      <td>0</td>\n",
       "      <td>0</td>\n",
       "      <td>0</td>\n",
       "      <td>3</td>\n",
       "      <td>0</td>\n",
       "    </tr>\n",
       "    <tr>\n",
       "      <th>ffea246f04196af602c7dc123e5e48fc</th>\n",
       "      <td>0</td>\n",
       "      <td>0</td>\n",
       "      <td>0</td>\n",
       "      <td>0</td>\n",
       "      <td>0</td>\n",
       "      <td>3</td>\n",
       "    </tr>\n",
       "    <tr>\n",
       "      <th>ffeffc54594debf3716d6fcd2402a99f</th>\n",
       "      <td>0</td>\n",
       "      <td>0</td>\n",
       "      <td>0</td>\n",
       "      <td>0</td>\n",
       "      <td>3</td>\n",
       "      <td>0</td>\n",
       "    </tr>\n",
       "    <tr>\n",
       "      <th>fff0f82159f9083f3dd1f8967fc54f6a</th>\n",
       "      <td>0</td>\n",
       "      <td>0</td>\n",
       "      <td>0</td>\n",
       "      <td>0</td>\n",
       "      <td>0</td>\n",
       "      <td>3</td>\n",
       "    </tr>\n",
       "    <tr>\n",
       "      <th>fff2025e3c1d6970a8a6ee0404ac6940</th>\n",
       "      <td>0</td>\n",
       "      <td>0</td>\n",
       "      <td>0</td>\n",
       "      <td>0</td>\n",
       "      <td>0</td>\n",
       "      <td>3</td>\n",
       "    </tr>\n",
       "  </tbody>\n",
       "</table>\n",
       "<p>15000 rows × 6 columns</p>\n",
       "</div>"
      ],
      "text/plain": [
       "                                  COPD  Lung tumor  Pneumonia  Tuberculosis  \\\n",
       "image_id                                                                      \n",
       "000434271f63a053c4128a0ba6352c7f     0           0          0             0   \n",
       "00053190460d56c53cc3e57321387478     0           0          0             0   \n",
       "0005e8e3701dfb1dd93d53e2ff537b6e     0           2          3             2   \n",
       "0006e0a85696f6bb578e84fafa9a5607     0           0          0             0   \n",
       "0007d316f756b3fa0baea2ff514ce945     0           0          0             0   \n",
       "...                                ...         ...        ...           ...   \n",
       "ffe6f9fe648a7ec29a50feb92d6c15a4     0           0          0             0   \n",
       "ffea246f04196af602c7dc123e5e48fc     0           0          0             0   \n",
       "ffeffc54594debf3716d6fcd2402a99f     0           0          0             0   \n",
       "fff0f82159f9083f3dd1f8967fc54f6a     0           0          0             0   \n",
       "fff2025e3c1d6970a8a6ee0404ac6940     0           0          0             0   \n",
       "\n",
       "                                  Other diseases  No finding  \n",
       "image_id                                                      \n",
       "000434271f63a053c4128a0ba6352c7f               0           3  \n",
       "00053190460d56c53cc3e57321387478               0           3  \n",
       "0005e8e3701dfb1dd93d53e2ff537b6e               0           0  \n",
       "0006e0a85696f6bb578e84fafa9a5607               0           3  \n",
       "0007d316f756b3fa0baea2ff514ce945               3           0  \n",
       "...                                          ...         ...  \n",
       "ffe6f9fe648a7ec29a50feb92d6c15a4               3           0  \n",
       "ffea246f04196af602c7dc123e5e48fc               0           3  \n",
       "ffeffc54594debf3716d6fcd2402a99f               3           0  \n",
       "fff0f82159f9083f3dd1f8967fc54f6a               0           3  \n",
       "fff2025e3c1d6970a8a6ee0404ac6940               0           3  \n",
       "\n",
       "[15000 rows x 6 columns]"
      ]
     },
     "execution_count": 16,
     "metadata": {},
     "output_type": "execute_result"
    }
   ],
   "source": [
    "# Group by 'image_id' and sum the target columns\n",
    "grouped = train_labels.groupby(\"image_id\")[target_columns].sum()\n",
    "grouped"
   ]
  },
  {
   "cell_type": "code",
   "execution_count": 17,
   "metadata": {
    "execution": {
     "iopub.execute_input": "2025-03-12T07:36:37.154694Z",
     "iopub.status.busy": "2025-03-12T07:36:37.154405Z",
     "iopub.status.idle": "2025-03-12T07:36:37.163905Z",
     "shell.execute_reply": "2025-03-12T07:36:37.163094Z",
     "shell.execute_reply.started": "2025-03-12T07:36:37.154673Z"
    },
    "id": "RV1yTFtM8XPJ",
    "trusted": true
   },
   "outputs": [],
   "source": [
    "# Identify rows where more than one target column has values greater than 0\n",
    "rows_with_multiple_nonzero = grouped[grouped.gt(0).sum(axis=1) > 1]"
   ]
  },
  {
   "cell_type": "code",
   "execution_count": 18,
   "metadata": {
    "execution": {
     "iopub.execute_input": "2025-03-12T07:36:37.559105Z",
     "iopub.status.busy": "2025-03-12T07:36:37.558771Z",
     "iopub.status.idle": "2025-03-12T07:36:37.564090Z",
     "shell.execute_reply": "2025-03-12T07:36:37.563398Z",
     "shell.execute_reply.started": "2025-03-12T07:36:37.559074Z"
    },
    "id": "9ftHz-rW8YPN",
    "trusted": true
   },
   "outputs": [],
   "source": [
    "# Reset index to make 'image_id' a separate column\n",
    "rows_with_multiple_nonzero = rows_with_multiple_nonzero.reset_index()"
   ]
  },
  {
   "cell_type": "code",
   "execution_count": 19,
   "metadata": {
    "colab": {
     "base_uri": "https://localhost:8080/",
     "height": 206
    },
    "execution": {
     "iopub.execute_input": "2025-03-12T07:36:37.957844Z",
     "iopub.status.busy": "2025-03-12T07:36:37.957530Z",
     "iopub.status.idle": "2025-03-12T07:36:37.966660Z",
     "shell.execute_reply": "2025-03-12T07:36:37.965912Z",
     "shell.execute_reply.started": "2025-03-12T07:36:37.957817Z"
    },
    "id": "QVc3xoLc2Jl2",
    "outputId": "9a7fbdaa-bbb8-4287-b918-ab2a65d66c3c",
    "trusted": true
   },
   "outputs": [
    {
     "data": {
      "text/html": [
       "<div>\n",
       "<style scoped>\n",
       "    .dataframe tbody tr th:only-of-type {\n",
       "        vertical-align: middle;\n",
       "    }\n",
       "\n",
       "    .dataframe tbody tr th {\n",
       "        vertical-align: top;\n",
       "    }\n",
       "\n",
       "    .dataframe thead th {\n",
       "        text-align: right;\n",
       "    }\n",
       "</style>\n",
       "<table border=\"1\" class=\"dataframe\">\n",
       "  <thead>\n",
       "    <tr style=\"text-align: right;\">\n",
       "      <th></th>\n",
       "      <th>image_id</th>\n",
       "      <th>COPD</th>\n",
       "      <th>Lung tumor</th>\n",
       "      <th>Pneumonia</th>\n",
       "      <th>Tuberculosis</th>\n",
       "      <th>Other diseases</th>\n",
       "      <th>No finding</th>\n",
       "    </tr>\n",
       "  </thead>\n",
       "  <tbody>\n",
       "    <tr>\n",
       "      <th>0</th>\n",
       "      <td>0005e8e3701dfb1dd93d53e2ff537b6e</td>\n",
       "      <td>0</td>\n",
       "      <td>2</td>\n",
       "      <td>3</td>\n",
       "      <td>2</td>\n",
       "      <td>0</td>\n",
       "      <td>0</td>\n",
       "    </tr>\n",
       "    <tr>\n",
       "      <th>1</th>\n",
       "      <td>001d127bad87592efe45a5c7678f8b8d</td>\n",
       "      <td>0</td>\n",
       "      <td>0</td>\n",
       "      <td>0</td>\n",
       "      <td>3</td>\n",
       "      <td>2</td>\n",
       "      <td>0</td>\n",
       "    </tr>\n",
       "    <tr>\n",
       "      <th>2</th>\n",
       "      <td>0046f681f078851293c4e710c4466058</td>\n",
       "      <td>0</td>\n",
       "      <td>0</td>\n",
       "      <td>0</td>\n",
       "      <td>3</td>\n",
       "      <td>1</td>\n",
       "      <td>0</td>\n",
       "    </tr>\n",
       "    <tr>\n",
       "      <th>3</th>\n",
       "      <td>009d4c31ebf87e51c5c8c160a4bd8006</td>\n",
       "      <td>0</td>\n",
       "      <td>0</td>\n",
       "      <td>2</td>\n",
       "      <td>0</td>\n",
       "      <td>3</td>\n",
       "      <td>0</td>\n",
       "    </tr>\n",
       "    <tr>\n",
       "      <th>4</th>\n",
       "      <td>00aca42a24e4ea6066cca2546150c36e</td>\n",
       "      <td>0</td>\n",
       "      <td>0</td>\n",
       "      <td>1</td>\n",
       "      <td>0</td>\n",
       "      <td>3</td>\n",
       "      <td>0</td>\n",
       "    </tr>\n",
       "  </tbody>\n",
       "</table>\n",
       "</div>"
      ],
      "text/plain": [
       "                           image_id  COPD  Lung tumor  Pneumonia  \\\n",
       "0  0005e8e3701dfb1dd93d53e2ff537b6e     0           2          3   \n",
       "1  001d127bad87592efe45a5c7678f8b8d     0           0          0   \n",
       "2  0046f681f078851293c4e710c4466058     0           0          0   \n",
       "3  009d4c31ebf87e51c5c8c160a4bd8006     0           0          2   \n",
       "4  00aca42a24e4ea6066cca2546150c36e     0           0          1   \n",
       "\n",
       "   Tuberculosis  Other diseases  No finding  \n",
       "0             2               0           0  \n",
       "1             3               2           0  \n",
       "2             3               1           0  \n",
       "3             0               3           0  \n",
       "4             0               3           0  "
      ]
     },
     "execution_count": 19,
     "metadata": {},
     "output_type": "execute_result"
    }
   ],
   "source": [
    "# Display the resulting dataset\n",
    "rows_with_multiple_nonzero.head()"
   ]
  },
  {
   "cell_type": "code",
   "execution_count": 20,
   "metadata": {
    "colab": {
     "base_uri": "https://localhost:8080/",
     "height": 206
    },
    "execution": {
     "iopub.execute_input": "2025-03-12T07:36:38.418704Z",
     "iopub.status.busy": "2025-03-12T07:36:38.418434Z",
     "iopub.status.idle": "2025-03-12T07:36:38.435964Z",
     "shell.execute_reply": "2025-03-12T07:36:38.435274Z",
     "shell.execute_reply.started": "2025-03-12T07:36:38.418684Z"
    },
    "id": "7_3D_yoY4GxS",
    "outputId": "5a3b128b-dd91-4879-e42c-e992bd6f1a5e",
    "trusted": true
   },
   "outputs": [
    {
     "data": {
      "text/html": [
       "<div>\n",
       "<style scoped>\n",
       "    .dataframe tbody tr th:only-of-type {\n",
       "        vertical-align: middle;\n",
       "    }\n",
       "\n",
       "    .dataframe tbody tr th {\n",
       "        vertical-align: top;\n",
       "    }\n",
       "\n",
       "    .dataframe thead th {\n",
       "        text-align: right;\n",
       "    }\n",
       "</style>\n",
       "<table border=\"1\" class=\"dataframe\">\n",
       "  <thead>\n",
       "    <tr style=\"text-align: right;\">\n",
       "      <th></th>\n",
       "      <th>image_id</th>\n",
       "      <th>rad_id</th>\n",
       "      <th>COPD</th>\n",
       "      <th>Lung tumor</th>\n",
       "      <th>Pneumonia</th>\n",
       "      <th>Tuberculosis</th>\n",
       "      <th>Other diseases</th>\n",
       "      <th>No finding</th>\n",
       "    </tr>\n",
       "  </thead>\n",
       "  <tbody>\n",
       "    <tr>\n",
       "      <th>6</th>\n",
       "      <td>0005e8e3701dfb1dd93d53e2ff537b6e</td>\n",
       "      <td>R10</td>\n",
       "      <td>0</td>\n",
       "      <td>0</td>\n",
       "      <td>1</td>\n",
       "      <td>1</td>\n",
       "      <td>0</td>\n",
       "      <td>0</td>\n",
       "    </tr>\n",
       "    <tr>\n",
       "      <th>7</th>\n",
       "      <td>0005e8e3701dfb1dd93d53e2ff537b6e</td>\n",
       "      <td>R8</td>\n",
       "      <td>0</td>\n",
       "      <td>1</td>\n",
       "      <td>1</td>\n",
       "      <td>0</td>\n",
       "      <td>0</td>\n",
       "      <td>0</td>\n",
       "    </tr>\n",
       "    <tr>\n",
       "      <th>8</th>\n",
       "      <td>0005e8e3701dfb1dd93d53e2ff537b6e</td>\n",
       "      <td>R9</td>\n",
       "      <td>0</td>\n",
       "      <td>1</td>\n",
       "      <td>1</td>\n",
       "      <td>1</td>\n",
       "      <td>0</td>\n",
       "      <td>0</td>\n",
       "    </tr>\n",
       "    <tr>\n",
       "      <th>27</th>\n",
       "      <td>001d127bad87592efe45a5c7678f8b8d</td>\n",
       "      <td>R10</td>\n",
       "      <td>0</td>\n",
       "      <td>0</td>\n",
       "      <td>0</td>\n",
       "      <td>1</td>\n",
       "      <td>0</td>\n",
       "      <td>0</td>\n",
       "    </tr>\n",
       "    <tr>\n",
       "      <th>28</th>\n",
       "      <td>001d127bad87592efe45a5c7678f8b8d</td>\n",
       "      <td>R8</td>\n",
       "      <td>0</td>\n",
       "      <td>0</td>\n",
       "      <td>0</td>\n",
       "      <td>1</td>\n",
       "      <td>1</td>\n",
       "      <td>0</td>\n",
       "    </tr>\n",
       "  </tbody>\n",
       "</table>\n",
       "</div>"
      ],
      "text/plain": [
       "                            image_id rad_id  COPD  Lung tumor  Pneumonia  \\\n",
       "6   0005e8e3701dfb1dd93d53e2ff537b6e    R10     0           0          1   \n",
       "7   0005e8e3701dfb1dd93d53e2ff537b6e     R8     0           1          1   \n",
       "8   0005e8e3701dfb1dd93d53e2ff537b6e     R9     0           1          1   \n",
       "27  001d127bad87592efe45a5c7678f8b8d    R10     0           0          0   \n",
       "28  001d127bad87592efe45a5c7678f8b8d     R8     0           0          0   \n",
       "\n",
       "    Tuberculosis  Other diseases  No finding  \n",
       "6              1               0           0  \n",
       "7              0               0           0  \n",
       "8              1               0           0  \n",
       "27             1               0           0  \n",
       "28             1               1           0  "
      ]
     },
     "execution_count": 20,
     "metadata": {},
     "output_type": "execute_result"
    }
   ],
   "source": [
    "# Filter the original labels DataFrame using the image_ids from rows_with_multiple_nonzero\n",
    "filtered_labels = train_labels[train_labels[\"image_id\"].isin(rows_with_multiple_nonzero[\"image_id\"])]\n",
    "should_visualized = [\"image_id\", \"rad_id\"] + target_columns\n",
    "\n",
    "filtered_labels[should_visualized].head()"
   ]
  },
  {
   "cell_type": "markdown",
   "metadata": {
    "id": "y2iJ628WEQ6k"
   },
   "source": [
    "Checking Skewness in the data"
   ]
  },
  {
   "cell_type": "code",
   "execution_count": 21,
   "metadata": {
    "colab": {
     "base_uri": "https://localhost:8080/"
    },
    "execution": {
     "iopub.execute_input": "2025-03-12T07:36:43.558614Z",
     "iopub.status.busy": "2025-03-12T07:36:43.558331Z",
     "iopub.status.idle": "2025-03-12T07:36:43.565280Z",
     "shell.execute_reply": "2025-03-12T07:36:43.564481Z",
     "shell.execute_reply.started": "2025-03-12T07:36:43.558593Z"
    },
    "id": "lM-S3Gu2EUIf",
    "outputId": "79ae2965-e2c0-47f6-e321-ec2318993fe4",
    "trusted": true
   },
   "outputs": [
    {
     "name": "stdout",
     "output_type": "stream",
     "text": [
      "Count of 1's for COPD: 46\n",
      "Count of 1's for Lung tumor: 478\n",
      "Count of 1's for Pneumonia: 1570\n",
      "Count of 1's for Tuberculosis: 1479\n",
      "Count of 1's for Other diseases: 11794\n",
      "Count of 1's for No finding: 31685\n"
     ]
    }
   ],
   "source": [
    "# Count the number of 1's in each target column\n",
    "target_counts = {column: train_labels[column].sum() for column in target_columns}\n",
    "\n",
    "# Display the counts\n",
    "for column, count in target_counts.items():\n",
    "    print(f\"Count of 1's for {column}: {count}\")"
   ]
  },
  {
   "cell_type": "code",
   "execution_count": 22,
   "metadata": {
    "colab": {
     "base_uri": "https://localhost:8080/",
     "height": 607
    },
    "execution": {
     "iopub.execute_input": "2025-03-12T07:36:46.205193Z",
     "iopub.status.busy": "2025-03-12T07:36:46.204874Z",
     "iopub.status.idle": "2025-03-12T07:36:46.484827Z",
     "shell.execute_reply": "2025-03-12T07:36:46.483981Z",
     "shell.execute_reply.started": "2025-03-12T07:36:46.205169Z"
    },
    "id": "HwXyDu_sYbEH",
    "outputId": "f8baba0d-3baa-4e4b-e04c-cdebed5a08b9",
    "trusted": true
   },
   "outputs": [
    {
     "data": {
      "image/png": "[encoded data removed]",
      "text/plain": [
       "<Figure size 800x600 with 1 Axes>"
      ]
     },
     "metadata": {},
     "output_type": "display_data"
    }
   ],
   "source": [
    "# Data for the bar graph\n",
    "target_counts = {\n",
    "    \"COPD\": 46,\n",
    "    \"Lung tumor\": 478,\n",
    "    \"Pneumonia\": 1570,\n",
    "    \"Tuberculosis\": 1479,\n",
    "    \"Other diseases\": 11794,\n",
    "    \"No finding\": 31685,\n",
    "}\n",
    "\n",
    "# Extract keys (labels) and values (counts)\n",
    "labels = list(target_counts.keys())\n",
    "counts = list(target_counts.values())\n",
    "\n",
    "# Create the bar graph\n",
    "plt.figure(figsize=(8, 6))\n",
    "plt.bar(labels, counts, color='skyblue', edgecolor='black')\n",
    "\n",
    "# Add title and labels\n",
    "plt.title(\"Count of 1's in Each Target Column\", fontsize=14)\n",
    "plt.xlabel(\"Target Labels\", fontsize=12)\n",
    "plt.ylabel(\"Count of 1's\", fontsize=12)\n",
    "\n",
    "# Add value annotations on top of the bars\n",
    "for i, count in enumerate(counts):\n",
    "    plt.text(i, count + 500, str(count), ha='center', fontsize=10)\n",
    "\n",
    "# Show the plot\n",
    "plt.tight_layout()\n",
    "plt.show()"
   ]
  },
  {
   "cell_type": "markdown",
   "metadata": {
    "id": "rQ1dQm9H93Z2"
   },
   "source": [
    "# Preparing labels"
   ]
  },
  {
   "cell_type": "markdown",
   "metadata": {
    "id": "XiLJXhjH-ihN"
   },
   "source": [
    "## For Training"
   ]
  },
  {
   "cell_type": "code",
   "execution_count": 23,
   "metadata": {
    "execution": {
     "iopub.execute_input": "2025-03-12T07:37:05.748936Z",
     "iopub.status.busy": "2025-03-12T07:37:05.748621Z",
     "iopub.status.idle": "2025-03-12T07:37:05.752382Z",
     "shell.execute_reply": "2025-03-12T07:37:05.751635Z",
     "shell.execute_reply.started": "2025-03-12T07:37:05.748910Z"
    },
    "id": "HqDcjLrJ_AoR",
    "trusted": true
   },
   "outputs": [],
   "source": [
    "# Define target columns\n",
    "target_columns = [\"COPD\", \"Lung tumor\", \"Pneumonia\", \"Tuberculosis\", \"Other diseases\", \"No finding\"]"
   ]
  },
  {
   "cell_type": "code",
   "execution_count": 24,
   "metadata": {
    "colab": {
     "base_uri": "https://localhost:8080/"
    },
    "execution": {
     "iopub.execute_input": "2025-03-12T07:37:06.068104Z",
     "iopub.status.busy": "2025-03-12T07:37:06.067778Z",
     "iopub.status.idle": "2025-03-12T07:37:06.073780Z",
     "shell.execute_reply": "2025-03-12T07:37:06.072753Z",
     "shell.execute_reply.started": "2025-03-12T07:37:06.068079Z"
    },
    "id": "NaelJlswAqKP",
    "outputId": "53c0fc22-d3b8-46f6-c574-414437e77036",
    "trusted": true
   },
   "outputs": [
    {
     "data": {
      "text/plain": [
       "(45000, 30)"
      ]
     },
     "execution_count": 24,
     "metadata": {},
     "output_type": "execute_result"
    }
   ],
   "source": [
    "train_labels.shape"
   ]
  },
  {
   "cell_type": "code",
   "execution_count": 25,
   "metadata": {
    "execution": {
     "iopub.execute_input": "2025-03-12T07:37:06.394386Z",
     "iopub.status.busy": "2025-03-12T07:37:06.394064Z",
     "iopub.status.idle": "2025-03-12T07:37:06.404262Z",
     "shell.execute_reply": "2025-03-12T07:37:06.403450Z",
     "shell.execute_reply.started": "2025-03-12T07:37:06.394362Z"
    },
    "id": "AhRlVBOR_Cd4",
    "trusted": true
   },
   "outputs": [],
   "source": [
    "# Separate features and target labels from train_labels\n",
    "X = train_labels.drop(columns=target_columns + [\"image_id\", \"rad_id\"])\n",
    "y = train_labels[target_columns]"
   ]
  },
  {
   "cell_type": "code",
   "execution_count": 26,
   "metadata": {
    "colab": {
     "base_uri": "https://localhost:8080/"
    },
    "execution": {
     "iopub.execute_input": "2025-03-12T07:37:06.884475Z",
     "iopub.status.busy": "2025-03-12T07:37:06.884185Z",
     "iopub.status.idle": "2025-03-12T07:37:06.889385Z",
     "shell.execute_reply": "2025-03-12T07:37:06.888596Z",
     "shell.execute_reply.started": "2025-03-12T07:37:06.884454Z"
    },
    "id": "a8xyvATVAwil",
    "outputId": "0cdeb61b-a374-4218-a64e-dab7f9907a69",
    "trusted": true
   },
   "outputs": [
    {
     "data": {
      "text/plain": [
       "(45000, 22)"
      ]
     },
     "execution_count": 26,
     "metadata": {},
     "output_type": "execute_result"
    }
   ],
   "source": [
    "X.shape"
   ]
  },
  {
   "cell_type": "code",
   "execution_count": 27,
   "metadata": {
    "colab": {
     "base_uri": "https://localhost:8080/"
    },
    "execution": {
     "iopub.execute_input": "2025-03-12T07:37:08.102790Z",
     "iopub.status.busy": "2025-03-12T07:37:08.102473Z",
     "iopub.status.idle": "2025-03-12T07:37:08.107780Z",
     "shell.execute_reply": "2025-03-12T07:37:08.107076Z",
     "shell.execute_reply.started": "2025-03-12T07:37:08.102763Z"
    },
    "id": "ZSbzBiqoAxdP",
    "outputId": "b791f47a-434e-412c-8c5d-a7657eff60c7",
    "trusted": true
   },
   "outputs": [
    {
     "data": {
      "text/plain": [
       "(45000, 6)"
      ]
     },
     "execution_count": 27,
     "metadata": {},
     "output_type": "execute_result"
    }
   ],
   "source": [
    "y.shape"
   ]
  },
  {
   "cell_type": "code",
   "execution_count": 28,
   "metadata": {
    "execution": {
     "iopub.execute_input": "2025-03-12T07:37:08.251290Z",
     "iopub.status.busy": "2025-03-12T07:37:08.250853Z",
     "iopub.status.idle": "2025-03-12T07:37:08.266763Z",
     "shell.execute_reply": "2025-03-12T07:37:08.266109Z",
     "shell.execute_reply.started": "2025-03-12T07:37:08.251258Z"
    },
    "id": "cTxuBjwl_UUn",
    "trusted": true
   },
   "outputs": [],
   "source": [
    "# Splitting train_labels\n",
    "X_train, X_val, y_train, y_val = train_test_split(X, y, test_size=0.2, random_state=42)"
   ]
  },
  {
   "cell_type": "code",
   "execution_count": 29,
   "metadata": {
    "colab": {
     "base_uri": "https://localhost:8080/"
    },
    "execution": {
     "iopub.execute_input": "2025-03-12T07:37:08.389393Z",
     "iopub.status.busy": "2025-03-12T07:37:08.389061Z",
     "iopub.status.idle": "2025-03-12T07:37:08.394710Z",
     "shell.execute_reply": "2025-03-12T07:37:08.393912Z",
     "shell.execute_reply.started": "2025-03-12T07:37:08.389372Z"
    },
    "id": "YozR4G9OAysF",
    "outputId": "f613eb9c-cc7a-4b9d-abcb-463945c2f031",
    "trusted": true
   },
   "outputs": [
    {
     "data": {
      "text/plain": [
       "(36000, 22)"
      ]
     },
     "execution_count": 29,
     "metadata": {},
     "output_type": "execute_result"
    }
   ],
   "source": [
    "X_train.shape"
   ]
  },
  {
   "cell_type": "code",
   "execution_count": 30,
   "metadata": {
    "colab": {
     "base_uri": "https://localhost:8080/"
    },
    "execution": {
     "iopub.execute_input": "2025-03-12T07:37:08.518166Z",
     "iopub.status.busy": "2025-03-12T07:37:08.517810Z",
     "iopub.status.idle": "2025-03-12T07:37:08.522810Z",
     "shell.execute_reply": "2025-03-12T07:37:08.522134Z",
     "shell.execute_reply.started": "2025-03-12T07:37:08.518129Z"
    },
    "id": "IPOJEH2cA10L",
    "outputId": "86b7b66a-5b34-416c-c748-ce478db9116f",
    "trusted": true
   },
   "outputs": [
    {
     "data": {
      "text/plain": [
       "(9000, 22)"
      ]
     },
     "execution_count": 30,
     "metadata": {},
     "output_type": "execute_result"
    }
   ],
   "source": [
    "X_val.shape"
   ]
  },
  {
   "cell_type": "code",
   "execution_count": 31,
   "metadata": {
    "colab": {
     "base_uri": "https://localhost:8080/"
    },
    "execution": {
     "iopub.execute_input": "2025-03-12T07:37:08.674938Z",
     "iopub.status.busy": "2025-03-12T07:37:08.674646Z",
     "iopub.status.idle": "2025-03-12T07:37:08.679646Z",
     "shell.execute_reply": "2025-03-12T07:37:08.678964Z",
     "shell.execute_reply.started": "2025-03-12T07:37:08.674915Z"
    },
    "id": "or9Q2C5yA0ax",
    "outputId": "563468bb-9e28-4a6b-91cb-43f7528ceb22",
    "trusted": true
   },
   "outputs": [
    {
     "data": {
      "text/plain": [
       "(36000, 6)"
      ]
     },
     "execution_count": 31,
     "metadata": {},
     "output_type": "execute_result"
    }
   ],
   "source": [
    "y_train.shape"
   ]
  },
  {
   "cell_type": "code",
   "execution_count": 32,
   "metadata": {
    "colab": {
     "base_uri": "https://localhost:8080/"
    },
    "execution": {
     "iopub.execute_input": "2025-03-12T07:37:08.844850Z",
     "iopub.status.busy": "2025-03-12T07:37:08.844551Z",
     "iopub.status.idle": "2025-03-12T07:37:08.850060Z",
     "shell.execute_reply": "2025-03-12T07:37:08.849268Z",
     "shell.execute_reply.started": "2025-03-12T07:37:08.844828Z"
    },
    "id": "81pu-GhNA2mn",
    "outputId": "9b681358-4df6-4a82-ae27-f63036ee4196",
    "trusted": true
   },
   "outputs": [
    {
     "data": {
      "text/plain": [
       "(9000, 6)"
      ]
     },
     "execution_count": 32,
     "metadata": {},
     "output_type": "execute_result"
    }
   ],
   "source": [
    "y_val.shape"
   ]
  },
  {
   "cell_type": "markdown",
   "metadata": {
    "id": "J-O-79sF-kWJ"
   },
   "source": [
    "## For Testing"
   ]
  },
  {
   "cell_type": "code",
   "execution_count": 33,
   "metadata": {
    "colab": {
     "base_uri": "https://localhost:8080/"
    },
    "execution": {
     "iopub.execute_input": "2025-03-12T07:37:09.106071Z",
     "iopub.status.busy": "2025-03-12T07:37:09.105674Z",
     "iopub.status.idle": "2025-03-12T07:37:09.111437Z",
     "shell.execute_reply": "2025-03-12T07:37:09.110628Z",
     "shell.execute_reply.started": "2025-03-12T07:37:09.106011Z"
    },
    "id": "bhzoOU77A7kk",
    "outputId": "c1706710-d9e1-480c-835d-fb356dfd0f6f",
    "trusted": true
   },
   "outputs": [
    {
     "data": {
      "text/plain": [
       "(3000, 29)"
      ]
     },
     "execution_count": 33,
     "metadata": {},
     "output_type": "execute_result"
    }
   ],
   "source": [
    "test_labels.shape"
   ]
  },
  {
   "cell_type": "code",
   "execution_count": 34,
   "metadata": {
    "execution": {
     "iopub.execute_input": "2025-03-12T07:37:14.587668Z",
     "iopub.status.busy": "2025-03-12T07:37:14.587383Z",
     "iopub.status.idle": "2025-03-12T07:37:14.592139Z",
     "shell.execute_reply": "2025-03-12T07:37:14.591434Z",
     "shell.execute_reply.started": "2025-03-12T07:37:14.587648Z"
    },
    "id": "dzo2WpY7CvBY",
    "trusted": true
   },
   "outputs": [],
   "source": [
    "# Renaming test_labels column to make it according to train_labels column\n",
    "test_labels = test_labels.rename(columns={\"Other disease\": \"Other diseases\"})"
   ]
  },
  {
   "cell_type": "code",
   "execution_count": 35,
   "metadata": {
    "execution": {
     "iopub.execute_input": "2025-03-12T07:37:14.883468Z",
     "iopub.status.busy": "2025-03-12T07:37:14.883160Z",
     "iopub.status.idle": "2025-03-12T07:37:14.889351Z",
     "shell.execute_reply": "2025-03-12T07:37:14.888524Z",
     "shell.execute_reply.started": "2025-03-12T07:37:14.883443Z"
    },
    "id": "NxZa2G6g_2WJ",
    "trusted": true
   },
   "outputs": [],
   "source": [
    "# Removing image_id column from test_labels\n",
    "X_test = test_labels.drop(columns=target_columns + [\"image_id\"])\n",
    "y_test = test_labels[target_columns]"
   ]
  },
  {
   "cell_type": "code",
   "execution_count": 36,
   "metadata": {
    "colab": {
     "base_uri": "https://localhost:8080/"
    },
    "execution": {
     "iopub.execute_input": "2025-03-12T07:37:15.162401Z",
     "iopub.status.busy": "2025-03-12T07:37:15.162105Z",
     "iopub.status.idle": "2025-03-12T07:37:15.167669Z",
     "shell.execute_reply": "2025-03-12T07:37:15.166799Z",
     "shell.execute_reply.started": "2025-03-12T07:37:15.162379Z"
    },
    "id": "uBhOMleWBA4s",
    "outputId": "f87a2bdd-8eaf-48d7-94b2-7e4d2a6113b1",
    "trusted": true
   },
   "outputs": [
    {
     "data": {
      "text/plain": [
       "(3000, 22)"
      ]
     },
     "execution_count": 36,
     "metadata": {},
     "output_type": "execute_result"
    }
   ],
   "source": [
    "X_test.shape"
   ]
  },
  {
   "cell_type": "code",
   "execution_count": 37,
   "metadata": {
    "colab": {
     "base_uri": "https://localhost:8080/"
    },
    "execution": {
     "iopub.execute_input": "2025-03-12T07:37:15.437175Z",
     "iopub.status.busy": "2025-03-12T07:37:15.436863Z",
     "iopub.status.idle": "2025-03-12T07:37:15.442236Z",
     "shell.execute_reply": "2025-03-12T07:37:15.441491Z",
     "shell.execute_reply.started": "2025-03-12T07:37:15.437151Z"
    },
    "id": "LdEuEA14BCP8",
    "outputId": "05432012-b9f4-4ea9-d47b-dc28c90ed33e",
    "trusted": true
   },
   "outputs": [
    {
     "data": {
      "text/plain": [
       "(3000, 6)"
      ]
     },
     "execution_count": 37,
     "metadata": {},
     "output_type": "execute_result"
    }
   ],
   "source": [
    "y_test.shape"
   ]
  },
  {
   "cell_type": "markdown",
   "metadata": {
    "id": "iOgjUqtb_i4J"
   },
   "source": [
    "# Checking for Multi-label Cases"
   ]
  },
  {
   "cell_type": "code",
   "execution_count": 38,
   "metadata": {
    "colab": {
     "base_uri": "https://localhost:8080/"
    },
    "execution": {
     "iopub.execute_input": "2025-03-12T07:37:15.855514Z",
     "iopub.status.busy": "2025-03-12T07:37:15.855162Z",
     "iopub.status.idle": "2025-03-12T07:37:15.867254Z",
     "shell.execute_reply": "2025-03-12T07:37:15.866499Z",
     "shell.execute_reply.started": "2025-03-12T07:37:15.855485Z"
    },
    "id": "nUB3A0t44LyN",
    "outputId": "8aaef4d1-7865-4433-fcda-8781b14ef21c",
    "trusted": true
   },
   "outputs": [
    {
     "name": "stdout",
     "output_type": "stream",
     "text": [
      "Number of multi-label rows in training data: 1580\n",
      "Number of multi-label rows in testing data: 192\n"
     ]
    }
   ],
   "source": [
    "multi_label_rows_train = y_train.sum(axis=1) > 1\n",
    "multi_label_rows_test = y_test.sum(axis=1) > 1\n",
    "print(f\"Number of multi-label rows in training data: {multi_label_rows_train.sum()}\")\n",
    "print(f\"Number of multi-label rows in testing data: {multi_label_rows_test.sum()}\")"
   ]
  },
  {
   "cell_type": "markdown",
   "metadata": {
    "id": "2notlO4KaB_Q"
   },
   "source": [
    "# Multi-label Classification"
   ]
  },
  {
   "cell_type": "code",
   "execution_count": 39,
   "metadata": {
    "colab": {
     "base_uri": "https://localhost:8080/"
    },
    "execution": {
     "iopub.execute_input": "2025-03-12T07:38:26.106846Z",
     "iopub.status.busy": "2025-03-12T07:38:26.106525Z",
     "iopub.status.idle": "2025-03-12T07:38:30.631796Z",
     "shell.execute_reply": "2025-03-12T07:38:30.630932Z",
     "shell.execute_reply.started": "2025-03-12T07:38:26.106820Z"
    },
    "id": "kPlGp1kWcWYH",
    "outputId": "fa3ece62-647a-4827-cde5-d760ddb19802",
    "trusted": true
   },
   "outputs": [
    {
     "name": "stdout",
     "output_type": "stream",
     "text": [
      "Requirement already satisfied: scikit-multilearn in /usr/local/lib/python3.10/dist-packages (0.2.0)\n"
     ]
    }
   ],
   "source": [
    "!pip install scikit-multilearn"
   ]
  },
  {
   "cell_type": "code",
   "execution_count": 41,
   "metadata": {
    "execution": {
     "iopub.execute_input": "2025-03-12T07:38:30.983902Z",
     "iopub.status.busy": "2025-03-12T07:38:30.983612Z",
     "iopub.status.idle": "2025-03-12T07:38:30.987498Z",
     "shell.execute_reply": "2025-03-12T07:38:30.986787Z",
     "shell.execute_reply.started": "2025-03-12T07:38:30.983882Z"
    },
    "id": "AjI-ibVRa7JS",
    "trusted": true
   },
   "outputs": [],
   "source": [
    "from sklearn.multioutput import MultiOutputClassifier"
   ]
  },
  {
   "cell_type": "code",
   "execution_count": 43,
   "metadata": {
    "execution": {
     "iopub.execute_input": "2025-03-12T07:38:36.557416Z",
     "iopub.status.busy": "2025-03-12T07:38:36.557099Z",
     "iopub.status.idle": "2025-03-12T07:38:36.569639Z",
     "shell.execute_reply": "2025-03-12T07:38:36.568822Z",
     "shell.execute_reply.started": "2025-03-12T07:38:36.557394Z"
    },
    "id": "RLQE9KOXdVrE",
    "trusted": true
   },
   "outputs": [
    {
     "name": "stderr",
     "output_type": "stream",
     "text": [
      "<ipython-input-43-d052a875652d>:1: UserWarning: Pandas doesn't allow columns to be created via a new attribute name - see https://pandas.pydata.org/pandas-docs/stable/indexing.html#attribute-access\n",
      "  X.train = np.array(X_train)\n",
      "<ipython-input-43-d052a875652d>:2: UserWarning: Pandas doesn't allow columns to be created via a new attribute name - see https://pandas.pydata.org/pandas-docs/stable/indexing.html#attribute-access\n",
      "  y.train = np.array(y_train)\n",
      "<ipython-input-43-d052a875652d>:3: UserWarning: Pandas doesn't allow columns to be created via a new attribute name - see https://pandas.pydata.org/pandas-docs/stable/indexing.html#attribute-access\n",
      "  X.val = np.array(X_val)\n",
      "<ipython-input-43-d052a875652d>:4: UserWarning: Pandas doesn't allow columns to be created via a new attribute name - see https://pandas.pydata.org/pandas-docs/stable/indexing.html#attribute-access\n",
      "  y.val = np.array(y_val)\n",
      "<ipython-input-43-d052a875652d>:5: UserWarning: Pandas doesn't allow columns to be created via a new attribute name - see https://pandas.pydata.org/pandas-docs/stable/indexing.html#attribute-access\n",
      "  X.test = np.array(X_test)\n",
      "<ipython-input-43-d052a875652d>:6: UserWarning: Pandas doesn't allow columns to be created via a new attribute name - see https://pandas.pydata.org/pandas-docs/stable/indexing.html#attribute-access\n",
      "  y.test = np.array(y_test)\n"
     ]
    }
   ],
   "source": [
    "X.train = np.array(X_train)\n",
    "y.train = np.array(y_train)\n",
    "X.val = np.array(X_val)\n",
    "y.val = np.array(y_val)\n",
    "X.test = np.array(X_test)\n",
    "y.test = np.array(y_test)"
   ]
  },
  {
   "cell_type": "markdown",
   "metadata": {
    "id": "N7PBIQ-ciYlK"
   },
   "source": [
    "# Trainig Random Forest Classifier"
   ]
  },
  {
   "cell_type": "code",
   "execution_count": null,
   "metadata": {
    "execution": {
     "iopub.execute_input": "2025-03-12T07:39:12.603347Z",
     "iopub.status.busy": "2025-03-12T07:39:12.602970Z",
     "iopub.status.idle": "2025-03-12T07:39:12.607678Z",
     "shell.execute_reply": "2025-03-12T07:39:12.606696Z",
     "shell.execute_reply.started": "2025-03-12T07:39:12.603320Z"
    },
    "id": "2ASr814yill-",
    "trusted": true
   },
   "outputs": [],
   "source": [
    "# Define ensemble models\n",
    "random_forest_en = RandomForestClassifier(random_state=42)"
   ]
  },
  {
   "cell_type": "code",
   "execution_count": null,
   "metadata": {
    "colab": {
     "base_uri": "https://localhost:8080/"
    },
    "execution": {
     "iopub.execute_input": "2025-03-12T07:46:07.734615Z",
     "iopub.status.busy": "2025-03-12T07:46:07.734280Z",
     "iopub.status.idle": "2025-03-12T07:46:11.712769Z",
     "shell.execute_reply": "2025-03-12T07:46:11.711784Z",
     "shell.execute_reply.started": "2025-03-12T07:46:07.734593Z"
    },
    "id": "spEdtX27ifzT",
    "outputId": "39ed5502-c182-4670-ee13-11396867944f",
    "trusted": true
   },
   "outputs": [
    {
     "name": "stdout",
     "output_type": "stream",
     "text": [
      "Training Random Forest . . .\n",
      "\n",
      "\n",
      "Validation Results\n",
      "\n",
      "              precision    recall  f1-score   support\n",
      "\n",
      "           0       0.86      0.67      0.75         9\n",
      "           1       0.47      0.18      0.26        96\n",
      "           2       0.74      0.72      0.73       301\n",
      "           3       0.67      0.35      0.46       314\n",
      "           4       0.92      0.98      0.95      2421\n",
      "           5       1.00      1.00      1.00      6277\n",
      "\n",
      "   micro avg       0.96      0.95      0.96      9418\n",
      "   macro avg       0.78      0.65      0.69      9418\n",
      "weighted avg       0.96      0.95      0.95      9418\n",
      " samples avg       0.97      0.97      0.97      9418\n",
      "\n",
      "Validation Accuracy:  0.9385555555555556\n",
      "\n",
      "\n",
      "Testing Random Forest . . .\n",
      "\n",
      "\n",
      "Test Results\n",
      "\n",
      "              precision    recall  f1-score   support\n",
      "\n",
      "           0       1.00      0.50      0.67         2\n",
      "           1       0.47      0.10      0.16        80\n",
      "           2       0.83      0.45      0.59       246\n",
      "           3       0.80      0.27      0.41       164\n",
      "           4       0.75      0.98      0.85       657\n",
      "           5       1.00      1.00      1.00      2051\n",
      "\n",
      "   micro avg       0.92      0.89      0.90      3200\n",
      "   macro avg       0.81      0.55      0.61      3200\n",
      "weighted avg       0.91      0.89      0.89      3200\n",
      " samples avg       0.93      0.92      0.92      3200\n",
      "\n",
      "Test Accuracy: 0.8783333333333333\n"
     ]
    },
    {
     "name": "stderr",
     "output_type": "stream",
     "text": [
      "/usr/local/lib/python3.10/dist-packages/sklearn/metrics/_classification.py:1344: UndefinedMetricWarning: Precision and F-score are ill-defined and being set to 0.0 in samples with no predicted labels. Use `zero_division` parameter to control this behavior.\n",
      "  _warn_prf(average, modifier, msg_start, len(result))\n",
      "/usr/local/lib/python3.10/dist-packages/sklearn/metrics/_classification.py:1344: UndefinedMetricWarning: Recall and F-score are ill-defined and being set to 0.0 in samples with no true labels. Use `zero_division` parameter to control this behavior.\n",
      "  _warn_prf(average, modifier, msg_start, len(result))\n",
      "/usr/local/lib/python3.10/dist-packages/sklearn/metrics/_classification.py:1344: UndefinedMetricWarning: Precision and F-score are ill-defined and being set to 0.0 in samples with no predicted labels. Use `zero_division` parameter to control this behavior.\n",
      "  _warn_prf(average, modifier, msg_start, len(result))\n"
     ]
    }
   ],
   "source": [
    "print(\"Training Random Forest . . .\")\n",
    "random_forest_en.fit(X_train, y_train)\n",
    "\n",
    "y_val_pred = random_forest_en.predict(X_val)\n",
    "print(\"\\n\\nValidation Results\\n\")\n",
    "print(classification_report(y_val, y_val_pred))\n",
    "print(\"Validation Accuracy: \", accuracy_score(y_val, y_val_pred))\n",
    "\n",
    "print(\"\\n\\nTesting Random Forest . . .\")\n",
    "y_test_pred = random_forest_en.predict(X_test)\n",
    "print(\"\\n\\nTest Results\\n\")\n",
    "print(classification_report(y_test, y_test_pred))\n",
    "print(\"Test Accuracy:\", accuracy_score(y_test, y_test_pred))"
   ]
  },
  {
   "cell_type": "markdown",
   "metadata": {
    "id": "6LchBwpYm-33"
   },
   "source": [
    "# Training a Random Forest using MultiOutputClassifier()"
   ]
  },
  {
   "cell_type": "code",
   "execution_count": 48,
   "metadata": {
    "colab": {
     "base_uri": "https://localhost:8080/"
    },
    "execution": {
     "iopub.execute_input": "2025-03-12T07:49:25.467973Z",
     "iopub.status.busy": "2025-03-12T07:49:25.467514Z",
     "iopub.status.idle": "2025-03-12T07:49:32.014641Z",
     "shell.execute_reply": "2025-03-12T07:49:32.013611Z",
     "shell.execute_reply.started": "2025-03-12T07:49:25.467933Z"
    },
    "id": "6MY2Pb5-82hA",
    "outputId": "605e3952-1db3-4fe4-865f-0ae17a941edf",
    "trusted": true
   },
   "outputs": [
    {
     "name": "stdout",
     "output_type": "stream",
     "text": [
      "Classification Report (Multi-Label):\n",
      "                precision    recall  f1-score   support\n",
      "\n",
      "          COPD       0.50      0.50      0.50         2\n",
      "    Lung tumor       0.42      0.10      0.16        80\n",
      "     Pneumonia       0.83      0.47      0.60       246\n",
      "  Tuberculosis       0.77      0.28      0.41       164\n",
      "Other diseases       0.75      0.98      0.85       657\n",
      "    No finding       1.00      1.00      1.00      2051\n",
      "\n",
      "     micro avg       0.92      0.90      0.91      3200\n",
      "     macro avg       0.71      0.55      0.59      3200\n",
      "  weighted avg       0.91      0.90      0.89      3200\n",
      "   samples avg       0.93      0.92      0.92      3200\n",
      "\n"
     ]
    },
    {
     "name": "stderr",
     "output_type": "stream",
     "text": [
      "/usr/local/lib/python3.10/dist-packages/sklearn/metrics/_classification.py:1344: UndefinedMetricWarning: Precision and F-score are ill-defined and being set to 0.0 in samples with no predicted labels. Use `zero_division` parameter to control this behavior.\n",
      "  _warn_prf(average, modifier, msg_start, len(result))\n"
     ]
    }
   ],
   "source": [
    "# Multi-Label Classification using RandomForest\n",
    "model = RandomForestClassifier(random_state=42)\n",
    "multi_label_model = MultiOutputClassifier(model)\n",
    "\n",
    "# Train the model\n",
    "multi_label_model.fit(X_train, y_train)\n",
    "\n",
    "# Make predictions\n",
    "y_pred = multi_label_model.predict(X_test)\n",
    "\n",
    "# Evaluate the model\n",
    "print(\"Classification Report (Multi-Label):\")\n",
    "print(classification_report(y_test, y_pred, target_names=target_columns))"
   ]
  },
  {
   "cell_type": "code",
   "execution_count": 49,
   "metadata": {
    "colab": {
     "base_uri": "https://localhost:8080/"
    },
    "execution": {
     "iopub.execute_input": "2025-03-12T07:49:32.016535Z",
     "iopub.status.busy": "2025-03-12T07:49:32.016205Z",
     "iopub.status.idle": "2025-03-12T07:49:32.024059Z",
     "shell.execute_reply": "2025-03-12T07:49:32.023131Z",
     "shell.execute_reply.started": "2025-03-12T07:49:32.016503Z"
    },
    "id": "jB2psULkAweO",
    "outputId": "859a74e4-76bb-42c1-a54c-852bc909d0e2",
    "trusted": true
   },
   "outputs": [
    {
     "name": "stdout",
     "output_type": "stream",
     "text": [
      "Accuracy Score: 0.8786666666666667\n"
     ]
    }
   ],
   "source": [
    "print(\"Accuracy Score:\", accuracy_score(y_test, y_pred))"
   ]
  },
  {
   "cell_type": "markdown",
   "metadata": {
    "id": "7lF4FipxnIiJ"
   },
   "source": [
    "# Saving the Models\n"
   ]
  },
  {
   "cell_type": "code",
   "execution_count": null,
   "metadata": {
    "colab": {
     "base_uri": "https://localhost:8080/"
    },
    "execution": {
     "iopub.execute_input": "2025-03-12T07:53:19.858927Z",
     "iopub.status.busy": "2025-03-12T07:53:19.858599Z",
     "iopub.status.idle": "2025-03-12T07:53:20.105683Z",
     "shell.execute_reply": "2025-03-12T07:53:20.104959Z",
     "shell.execute_reply.started": "2025-03-12T07:53:19.858904Z"
    },
    "id": "LlzmjnAMauic",
    "outputId": "a1d25403-c4fb-4d74-8512-de9966f5109a",
    "trusted": true
   },
   "outputs": [
    {
     "name": "stdout",
     "output_type": "stream",
     "text": [
      "Multi-label model saved successfully!\n"
     ]
    }
   ],
   "source": [
    "# import joblib\n",
    "\n",
    "joblib.dump(random_forest_en, 'random_forest_model.pkl')\n",
    "print(\"Model saved successfully!\")\n",
    "\n",
    "joblib.dump(multi_label_model, 'multi_label_random_forest.pkl')\n",
    "print(\"Multi-label model saved successfully!\")"
   ]
  },
  {
   "cell_type": "code",
   "execution_count": null,
   "metadata": {
    "id": "ZH2xLfIArfIR"
   },
   "outputs": [],
   "source": []
  }
 ],
 "metadata": {
  "accelerator": "GPU",
  "colab": {
   "gpuType": "T4",
   "provenance": [],
   "toc_visible": true
  },
  "kaggle": {
   "accelerator": "nvidiaTeslaT4",
   "dataSources": [
    {
     "datasetId": 6849649,
     "sourceId": 11003142,
     "sourceType": "datasetVersion"
    }
   ],
   "dockerImageVersionId": 30919,
   "isGpuEnabled": true,
   "isInternetEnabled": true,
   "language": "python",
   "sourceType": "notebook"
  },
  "kernelspec": {
   "display_name": "Python 3",
   "language": "python",
   "name": "python3"
  },
  "language_info": {
   "codemirror_mode": {
    "name": "ipython",
    "version": 3
   },
   "file_extension": ".py",
   "mimetype": "text/x-python",
   "name": "python",
   "nbconvert_exporter": "python",
   "pygments_lexer": "ipython3",
   "version": "3.10.12"
  }
 },
 "nbformat": 4,
 "nbformat_minor": 4
}
